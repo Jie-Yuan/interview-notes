{
 "cells": [
  {
   "cell_type": "markdown",
   "metadata": {},
   "source": [
    "# Problem Statement:\n",
    "\n",
    "A binary search tree was created by traversing through an array from left to right and inserting each element. Given a binary search tree with distinct elements, print all possible arrays that could have led to this tree."
   ]
  },
  {
   "cell_type": "markdown",
   "metadata": {
    "collapsed": true
   },
   "source": [
    "# Assumptions:\n",
    "\n",
    "* n/a    "
   ]
  },
  {
   "cell_type": "code",
   "execution_count": 8,
   "metadata": {},
   "outputs": [],
   "source": [
    "from collections import deque\n",
    "\n",
    "\n",
    "def get_seqs(root):\n",
    "    result = []\n",
    "    if root is None:\n",
    "        result.append(deque())\n",
    "        return result\n",
    "    \n",
    "    prefix = deque()\n",
    "    prefix.append(root.data)\n",
    "    \n",
    "    left_seqs = get_seqs(root.left)\n",
    "    right_seqs = get_seqs(root.right)\n",
    "    for l_seq in left_seqs:\n",
    "        for r_seq in right_seqs:\n",
    "            weaved = [] \n",
    "            weave_lists(l_seq, r_seq, weaved, prefix)\n",
    "            result.extend(weaved)\n",
    "            \n",
    "    return result\n",
    "\n",
    "def weave_lists(first, second, results, prefix):\n",
    "    if not first or not second:\n",
    "        result = deque(prefix)\n",
    "        result.extend(first)\n",
    "        result.extend(second)\n",
    "        results.append(result)\n",
    "\n",
    "    else:\n",
    "        head_first = first.popleft()\n",
    "        prefix.append(head_first)\n",
    "        weave_lists(first, second, results, prefix)\n",
    "        prefix.pop()\n",
    "        first.appendleft(head_first)\n",
    "    \n",
    "        head_second = second.popleft()\n",
    "        prefix.append(head_second)\n",
    "        weave_lists(first, second, results, prefix)\n",
    "        prefix.pop()\n",
    "        second.appendleft(head_second)\n",
    "    \n",
    "class TreeNode(object):\n",
    "    def __init__(self, data, parent=None):\n",
    "        self.data = data\n",
    "        self.left = None\n",
    "        self.right = None\n",
    "            \n",
    "\n",
    "root = TreeNode(2)\n",
    "root.left = TreeNode(1, root)\n",
    "root.right = TreeNode(3, root)\n",
    "\n",
    "expected = [deque([2, 1, 3]), deque([2, 3, 1])]\n",
    "assert get_seqs(root) == expected"
   ]
  },
  {
   "cell_type": "markdown",
   "metadata": {},
   "source": [
    "# Notes:\n",
    "\n",
    "* trust and focus -> some people struggle with this problem because there are two different recursive algorithms that must be designed and implemented. They get confused with how the algorithms should interact with each other and they try to juggle both in their heads.\n",
    "  * trust that one method does the right thing when implementing an independent method, and focus on the one thing that this independent method needs to do."
   ]
  },
  {
   "cell_type": "code",
   "execution_count": null,
   "metadata": {
    "collapsed": true
   },
   "outputs": [],
   "source": []
  }
 ],
 "metadata": {
  "kernelspec": {
   "display_name": "Python 2",
   "language": "python",
   "name": "python2"
  },
  "language_info": {
   "codemirror_mode": {
    "name": "ipython",
    "version": 2
   },
   "file_extension": ".py",
   "mimetype": "text/x-python",
   "name": "python",
   "nbconvert_exporter": "python",
   "pygments_lexer": "ipython2",
   "version": "2.7.13"
  }
 },
 "nbformat": 4,
 "nbformat_minor": 2
}
