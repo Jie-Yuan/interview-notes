{
 "cells": [
  {
   "cell_type": "markdown",
   "metadata": {},
   "source": [
    "# Problem Statement:\n",
    "\n",
    "Imagine you have a 20 GB file with one string per line. Explain how you would sort the file."
   ]
  },
  {
   "cell_type": "markdown",
   "metadata": {
    "collapsed": true
   },
   "source": [
    "# Assumptions:\n",
    "\n",
    "* n/a\n",
    "    "
   ]
  },
  {
   "cell_type": "markdown",
   "metadata": {},
   "source": [
    "# Solution:\n",
    "\n",
    "1. split the file into k chunks -> chunk will be as much as we can fit into memory\n",
    "2. sort each of the k chunks seperately\n",
    "3. do a k-way merge either with a bottom-up merge sort approach or a min-heap\n",
    "\n",
    "split and sort time complexity = O(n + k(n/klogn/k)) = O(n + nlogn/k) = O(nlogn)\n",
    "bottom-up merge = O(nlogk)\n",
    "min-heap = O(k + nlogk) = O(nlogk)"
   ]
  },
  {
   "cell_type": "markdown",
   "metadata": {},
   "source": [
    "# Notes:\n",
    "\n",
    "* cool problem\n",
    "* external sorting, it's a thing and a term"
   ]
  },
  {
   "cell_type": "code",
   "execution_count": null,
   "metadata": {
    "collapsed": true
   },
   "outputs": [],
   "source": []
  }
 ],
 "metadata": {
  "kernelspec": {
   "display_name": "Python 2",
   "language": "python",
   "name": "python2"
  },
  "language_info": {
   "codemirror_mode": {
    "name": "ipython",
    "version": 2
   },
   "file_extension": ".py",
   "mimetype": "text/x-python",
   "name": "python",
   "nbconvert_exporter": "python",
   "pygments_lexer": "ipython2",
   "version": "2.7.13"
  }
 },
 "nbformat": 4,
 "nbformat_minor": 2
}
