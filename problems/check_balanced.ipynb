{
 "cells": [
  {
   "cell_type": "markdown",
   "metadata": {},
   "source": [
    "# Problem Statement:\n",
    "\n",
    "Implement a function to check if a binary tree is balanced. For the purposes of this question, a balanced tree is defined to be a tree such that the heights of the two subtrees of any node never differ by more than one."
   ]
  },
  {
   "cell_type": "markdown",
   "metadata": {
    "collapsed": true
   },
   "source": [
    "# Assumptions:\n",
    "\n",
    "* n/a\n",
    "    "
   ]
  },
  {
   "cell_type": "code",
   "execution_count": 2,
   "metadata": {
    "collapsed": true
   },
   "outputs": [],
   "source": [
    "def is_balanced(root):\n",
    "    return get_height(root) != float('inf')\n",
    "\n",
    "def get_height(root):\n",
    "    if root is None:\n",
    "        return -1\n",
    "    \n",
    "    left_height = get_height(root.left)\n",
    "    if left_height == float('inf'):\n",
    "        return float('inf')\n",
    "    right_height = get_height(root.right)\n",
    "    if right_height == float('inf'):\n",
    "        return float('inf')\n",
    "    if abs(left_height - right_height) > 1:\n",
    "        return float('inf')\n",
    "    return max(left_height, right_height) + 1\n",
    "            \n",
    "            \n",
    "class TreeNode(object):\n",
    "    def __init__(self, data):\n",
    "        self.data = data\n",
    "        self.left = None\n",
    "        self.right = None\n",
    "            \n",
    "\n",
    "root = TreeNode(1)\n",
    "root.left = TreeNode(2)\n",
    "root.right = TreeNode(3)\n",
    "root.left.left = TreeNode(4)\n",
    "root.left.right = TreeNode(5)\n",
    "root.left.right.right = TreeNode(6)\n",
    "\n",
    "assert not is_balanced(root)\n",
    "assert is_balanced(root.left)"
   ]
  },
  {
   "cell_type": "markdown",
   "metadata": {},
   "source": [
    "# Notes:\n",
    "\n",
    "* think out loud\n",
    "* don't shoot for the prettiest/most perfect answer, shoot for what works then iterate on it"
   ]
  },
  {
   "cell_type": "code",
   "execution_count": null,
   "metadata": {
    "collapsed": true
   },
   "outputs": [],
   "source": []
  }
 ],
 "metadata": {
  "kernelspec": {
   "display_name": "Python 2",
   "language": "python",
   "name": "python2"
  },
  "language_info": {
   "codemirror_mode": {
    "name": "ipython",
    "version": 2
   },
   "file_extension": ".py",
   "mimetype": "text/x-python",
   "name": "python",
   "nbconvert_exporter": "python",
   "pygments_lexer": "ipython2",
   "version": "2.7.13"
  }
 },
 "nbformat": 4,
 "nbformat_minor": 2
}
