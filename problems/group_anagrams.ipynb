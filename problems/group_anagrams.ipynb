{
 "cells": [
  {
   "cell_type": "markdown",
   "metadata": {},
   "source": [
    "# Problem Statement:\n",
    "\n",
    "Write a method to sort an array of strings so that all the anagrams are next to each other."
   ]
  },
  {
   "cell_type": "markdown",
   "metadata": {
    "collapsed": true
   },
   "source": [
    "# Assumptions:\n",
    "\n",
    "* n/a    "
   ]
  },
  {
   "cell_type": "code",
   "execution_count": 2,
   "metadata": {},
   "outputs": [],
   "source": [
    "def anagrams(words):\n",
    "    \"\"\"This function sorts a list of strings \n",
    "    such that anagrams are next to each other.\n",
    "    \n",
    "    Time Complexity: O(nlogn)\n",
    "    Space(Auxillary) Complexity: O(n)\n",
    "    \"\"\"\n",
    "    words.sort(key=lambda s: sorted(s))\n",
    "            \n",
    "            \n",
    "words = ['lol', 'bird', 'cats', 'tacs', 'acts']\n",
    "\n",
    "expected = ['cats', 'tacs', 'acts', 'bird', 'lol']\n",
    "anagrams(words)\n",
    "\n",
    "assert words == expected"
   ]
  },
  {
   "cell_type": "markdown",
   "metadata": {},
   "source": [
    "# Notes:\n",
    "\n",
    "* with ambiguities, make simplyfying assumptions unless state otherwise in the hints\n",
    "  * we did not need to sort the words themselves, just the anagram keys i.e. 'cats' doesn't need\n",
    "  to come after 'acts', it can just appear in the order it was given"
   ]
  },
  {
   "cell_type": "code",
   "execution_count": null,
   "metadata": {
    "collapsed": true
   },
   "outputs": [],
   "source": []
  }
 ],
 "metadata": {
  "kernelspec": {
   "display_name": "Python 2",
   "language": "python",
   "name": "python2"
  },
  "language_info": {
   "codemirror_mode": {
    "name": "ipython",
    "version": 2
   },
   "file_extension": ".py",
   "mimetype": "text/x-python",
   "name": "python",
   "nbconvert_exporter": "python",
   "pygments_lexer": "ipython2",
   "version": "2.7.13"
  }
 },
 "nbformat": 4,
 "nbformat_minor": 2
}
