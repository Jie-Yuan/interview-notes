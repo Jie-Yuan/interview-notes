{
 "cells": [
  {
   "cell_type": "markdown",
   "metadata": {},
   "source": [
    "# Problem Statement:\n",
    "\n",
    "You are given a list of projects and a list of dependencies (which is a list of pairs of projects, where the second project is dependent on the first project). All of a project's dependencies must be built before the project is. Find a build order that will allow the projects to be built. If there is no valid build order, return an error."
   ]
  },
  {
   "cell_type": "markdown",
   "metadata": {
    "collapsed": true
   },
   "source": [
    "# Assumptions:\n",
    "\n",
    "* n/a\n",
    "    "
   ]
  },
  {
   "cell_type": "markdown",
   "metadata": {},
   "source": [
    "# Topological Sort: Kahn's Algo"
   ]
  },
  {
   "cell_type": "code",
   "execution_count": 8,
   "metadata": {},
   "outputs": [],
   "source": [
    "def get_build_order(projects, dependencies):\n",
    "    graph = build_graph(projects, dependencies)\n",
    "    return order_projects(graph.nodes)\n",
    "\n",
    "def build_graph(projects, dependencies):\n",
    "    graph = Graph()\n",
    "    for p_str in projects:\n",
    "        graph.create_node(p_str)\n",
    "        \n",
    "    for p1_str, p2_str in dependencies:\n",
    "        graph.add_edge(p1_str, p2_str)\n",
    "        \n",
    "    return graph\n",
    "\n",
    "def order_projects(nodes):\n",
    "    order = []\n",
    "    independents = get_independents(nodes)\n",
    "    \n",
    "    while independents:\n",
    "        curr = independents.pop()\n",
    "        order.append(curr.str)\n",
    "        for node in curr.neighbors:\n",
    "            node.dependencies -= 1\n",
    "        independents.extend(get_independents(curr.neighbors))\n",
    "        \n",
    "    if len(order) != len(nodes):\n",
    "        return None\n",
    "    return order\n",
    "\n",
    "def get_independents(nodes):\n",
    "    result = []\n",
    "    for n in nodes:\n",
    "        if n.dependencies == 0:\n",
    "            result.append(n)\n",
    "    return result\n",
    "\n",
    "class Graph(object):\n",
    "    def __init__(self):\n",
    "        self.nodes = []\n",
    "        self.str_to_node = {}\n",
    "        \n",
    "    def create_node(self, project_str):\n",
    "        node = Project(project_str)\n",
    "        self.nodes.append(node)\n",
    "        self.str_to_node[project_str] = node\n",
    "    \n",
    "    def get_or_create_node(self, project_str):\n",
    "        if project_str in self.str_to_node:\n",
    "            return self.str_to_node[project_str]\n",
    "        node = self.create_node(project_str)\n",
    "        return node\n",
    "    \n",
    "    def add_edge(self, project_1, project_2):\n",
    "        start = self.get_or_create_node(project_1)\n",
    "        end = self.get_or_create_node(project_2)\n",
    "        start.add_neighbor(end)\n",
    "    \n",
    "class Project(object):\n",
    "    def __init__(self, project_str):\n",
    "        self.str = project_str\n",
    "        self.dependencies = 0\n",
    "        self.neighbors = []\n",
    "        self.str_to_project = {}\n",
    "        \n",
    "    def add_neighbor(self, node):\n",
    "        if node.str not in self.str_to_project:\n",
    "            self.neighbors.append(node)\n",
    "            self.str_to_project[node.str] = node\n",
    "            node.dependencies += 1\n",
    "            \n",
    "            \n",
    "projects = ['a', 'b', 'c', 'd', 'e', 'f']\n",
    "dependencies = [('a','d'), ('f','b'), ('b','d'), ('f','a'), ('d','c')]\n",
    "expected = ['f', 'a', 'b', 'd', 'c', 'e']\n",
    "assert get_build_order(projects, dependencies) == expected"
   ]
  },
  {
   "cell_type": "markdown",
   "metadata": {},
   "source": [
    "# Notes:\n",
    "\n",
    "* learned a new topo.sort algo\n",
    "* got more OOP practice\n",
    "* read up on @property:\n",
    "  * https://www.programiz.com/python-programming/property\n",
    "  * https://stackoverflow.com/questions/37564798/python-property-on-a-list"
   ]
  },
  {
   "cell_type": "code",
   "execution_count": null,
   "metadata": {
    "collapsed": true
   },
   "outputs": [],
   "source": []
  }
 ],
 "metadata": {
  "kernelspec": {
   "display_name": "Python 2",
   "language": "python",
   "name": "python2"
  },
  "language_info": {
   "codemirror_mode": {
    "name": "ipython",
    "version": 2
   },
   "file_extension": ".py",
   "mimetype": "text/x-python",
   "name": "python",
   "nbconvert_exporter": "python",
   "pygments_lexer": "ipython2",
   "version": "2.7.13"
  }
 },
 "nbformat": 4,
 "nbformat_minor": 2
}
