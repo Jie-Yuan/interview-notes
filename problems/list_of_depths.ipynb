{
 "cells": [
  {
   "cell_type": "markdown",
   "metadata": {},
   "source": [
    "# Problem Statement:\n",
    "\n",
    "Given a binary tree, design an algorithm which creates a linked list of all the nodes at each depth (e.g., if you have a tree with depth D, you'll have D linked lists)."
   ]
  },
  {
   "cell_type": "markdown",
   "metadata": {
    "collapsed": true
   },
   "source": [
    "# Assumptions:\n",
    "\n",
    "* n/a\n",
    "    "
   ]
  },
  {
   "cell_type": "markdown",
   "metadata": {},
   "source": [
    "# Preorder Traversal Approach"
   ]
  },
  {
   "cell_type": "code",
   "execution_count": 25,
   "metadata": {
    "collapsed": true
   },
   "outputs": [],
   "source": [
    "def create_level_linked_list(root, ll_list, level):\n",
    "    if root is not None:\n",
    "        if len(ll_list) == level:  # level not contained in list\n",
    "            curr_ll = LinkedList()\n",
    "            ll_list.append(curr_ll)\n",
    "        else:\n",
    "            curr_ll = ll_list[level]\n",
    "            \n",
    "        curr_ll.add(root)\n",
    "        create_level_linked_list(root.left, ll_list, level + 1)\n",
    "        create_level_linked_list(root.right, ll_list, level + 1)\n",
    "\n",
    "        \n",
    "class LinkedList(object):\n",
    "    \"\"\"This is not a true LL, in fact, it is not\n",
    "    an LL at all. However, it behaves enough \n",
    "    like an LL to test the code above.\n",
    "    \"\"\"\n",
    "    def __init__(self):\n",
    "        self.nodes = []\n",
    "        \n",
    "    def add(self, node):\n",
    "        self.nodes.append(node)\n",
    "        \n",
    "    def add_many(self, nodes):\n",
    "        self.nodes.extend(nodes)\n",
    "        \n",
    "    def __str__(self):\n",
    "        return str([node.data for node in self.nodes])\n",
    "    \n",
    "    def __iter__(self):\n",
    "        return self.nodes.__iter__()\n",
    "    \n",
    "    # https://stackoverflow.com/questions/9787890/assign-class-boolean-value-in-python\n",
    "    def __len__(self):\n",
    "        return len(self.nodes)\n",
    "    \n",
    "    \n",
    "class TreeNode(object):\n",
    "    def __init__(self, data):\n",
    "        self.data = data\n",
    "        self.left = None\n",
    "        self.right = None\n",
    "            \n",
    "\n",
    "root = TreeNode(1)\n",
    "root.left = TreeNode(2)\n",
    "root.right = TreeNode(3)\n",
    "root.left.left = TreeNode(4)\n",
    "root.left.right = TreeNode(5)\n",
    "root.left.right.right = TreeNode(6)\n",
    "\n",
    "level_0 = LinkedList()\n",
    "level_0.add(root)\n",
    "level_1 = LinkedList()\n",
    "level_1.add_many([root.left, root.right])\n",
    "level_2 = LinkedList()\n",
    "level_2.add_many([root.left.left, root.left.right])\n",
    "level_3 = LinkedList()\n",
    "level_3.add(root.left.right.right)\n",
    "\n",
    "expected = [level_0, level_1, level_2, level_3]\n",
    "actual = []\n",
    "create_level_linked_list(root, actual, 0)\n",
    "\n",
    "for level in xrange(len(expected)):\n",
    "    for node in expected[level]:\n",
    "        assert node in actual[level]"
   ]
  },
  {
   "cell_type": "markdown",
   "metadata": {},
   "source": [
    "# BFS Approach"
   ]
  },
  {
   "cell_type": "code",
   "execution_count": 26,
   "metadata": {
    "collapsed": true
   },
   "outputs": [],
   "source": [
    "def create_level_linked_list(root):\n",
    "    result = []\n",
    "    parents = LinkedList()\n",
    "    if root is not None:\n",
    "        parents.add(root)\n",
    "        \n",
    "    while parents:\n",
    "        result.append(parents)\n",
    "        children = LinkedList()\n",
    "        for p in parents:\n",
    "            if p.left is not None:\n",
    "                children.add(p.left)\n",
    "            if p.right is not None:\n",
    "                children.add(p.right)\n",
    "        parents = children\n",
    "        \n",
    "    return result\n",
    "\n",
    "\n",
    "actual = create_level_linked_list(root)\n",
    "\n",
    "for level in xrange(len(expected)):\n",
    "    for node in expected[level]:\n",
    "        assert node in actual[level]"
   ]
  },
  {
   "cell_type": "markdown",
   "metadata": {},
   "source": [
    "# Notes:\n",
    "\n",
    "* I learned quite a bit about python/doing OOP in python while coding up these solutions"
   ]
  },
  {
   "cell_type": "code",
   "execution_count": null,
   "metadata": {
    "collapsed": true
   },
   "outputs": [],
   "source": []
  }
 ],
 "metadata": {
  "kernelspec": {
   "display_name": "Python 2",
   "language": "python",
   "name": "python2"
  },
  "language_info": {
   "codemirror_mode": {
    "name": "ipython",
    "version": 2
   },
   "file_extension": ".py",
   "mimetype": "text/x-python",
   "name": "python",
   "nbconvert_exporter": "python",
   "pygments_lexer": "ipython2",
   "version": "2.7.13"
  }
 },
 "nbformat": 4,
 "nbformat_minor": 2
}
