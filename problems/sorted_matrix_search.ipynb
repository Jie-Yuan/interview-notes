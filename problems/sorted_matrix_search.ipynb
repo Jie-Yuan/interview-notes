{
 "cells": [
  {
   "cell_type": "markdown",
   "metadata": {},
   "source": [
    "# Problem Statement:\n",
    "\n",
    "Given an M x N matrix in which each row and each column is sorted in ascending order, write a method to find an element."
   ]
  },
  {
   "cell_type": "markdown",
   "metadata": {
    "collapsed": true
   },
   "source": [
    "# Assumptions:\n",
    "\n",
    "* n/a\n",
    "    "
   ]
  },
  {
   "cell_type": "code",
   "execution_count": 5,
   "metadata": {
    "collapsed": true
   },
   "outputs": [],
   "source": [
    "def naive_solution(alist, target):\n",
    "    row = 0\n",
    "    column = len(alist[0]) - 1\n",
    "    while row < len(alist) and column >= 0:\n",
    "        if alist[row][column] == target:\n",
    "            return True\n",
    "        elif alist[row][column] > target:\n",
    "            column -= 1\n",
    "        else:\n",
    "            row += 1\n",
    "\n",
    "def binary_solution(alist, target):\n",
    "    pass\n",
    "            \n",
    "            \n",
    "alist = [[15, 20, 40, 85], [20, 35, 80, 95], [30, 55, 95, 105], [40, 80, 100, 120]]\n",
    "\n",
    "assert naive_solution(alist, 55)\n",
    "assert not naive_solution(alist, -1)"
   ]
  },
  {
   "cell_type": "markdown",
   "metadata": {},
   "source": [
    "# Notes:\n",
    "\n",
    "* input/output verification -> what does the interviewer mean by find -> here it seems like a poor choice of words; it should say check\n",
    "* matrix binary search = mind blown\n",
    "* on the right path -> got the O(mlgn) sol. and got whifs of the naive solution O(m + n) but I couldn't hone in on it"
   ]
  },
  {
   "cell_type": "code",
   "execution_count": null,
   "metadata": {
    "collapsed": true
   },
   "outputs": [],
   "source": []
  }
 ],
 "metadata": {
  "kernelspec": {
   "display_name": "Python 2",
   "language": "python",
   "name": "python2"
  },
  "language_info": {
   "codemirror_mode": {
    "name": "ipython",
    "version": 2
   },
   "file_extension": ".py",
   "mimetype": "text/x-python",
   "name": "python",
   "nbconvert_exporter": "python",
   "pygments_lexer": "ipython2",
   "version": "2.7.13"
  }
 },
 "nbformat": 4,
 "nbformat_minor": 2
}
