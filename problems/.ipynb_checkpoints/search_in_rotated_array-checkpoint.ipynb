{
 "cells": [
  {
   "cell_type": "markdown",
   "metadata": {},
   "source": [
    "# Problem Statement:\n",
    "\n",
    "Given a sorted array of n integers that has been rotated an unknown number of times, write code to find an element in the array. You may assume that the array was originally sorted in increasing order.\n",
    "\n",
    "EXAMPLE\n",
    "\n",
    "Input: find 5 in [15, 16, 19, 20, 25, 1, 3, 4, 5, 7, 10, 14]\n",
    "\n",
    "Output: 8 (the index of 5 in the list)"
   ]
  },
  {
   "cell_type": "markdown",
   "metadata": {
    "collapsed": true
   },
   "source": [
    "# Assumptions:\n",
    "\n",
    "* n/a    "
   ]
  },
  {
   "cell_type": "code",
   "execution_count": 2,
   "metadata": {
    "collapsed": true
   },
   "outputs": [],
   "source": [
    "def search(alist, left, right):\n",
    "    \"\"\"This function sorts a list of strings \n",
    "    such that anagrams are next to each other.\n",
    "    \n",
    "    Time Complexity: O(n)/O(logn)\n",
    "    Space(Auxillary) Complexity: O(n)/O(logn)\n",
    "    \"\"\"\n",
    "    \n",
    "    \n",
    "    \n",
    "            \n",
    "words = ['lol', 'bird', 'cats', 'tacs', 'acts']\n",
    "\n",
    "expected = ['cats', 'tacs', 'acts', 'bird', 'lol']\n",
    "anagrams(words)\n",
    "\n",
    "assert words == expected"
   ]
  },
  {
   "cell_type": "markdown",
   "metadata": {},
   "source": [
    "# Notes:\n",
    "\n",
    "* with ambiguities, make simplyfying assumptions unless state otherwise in the hints\n",
    "  * we did not need to sort the words themselves, just the anagram keys i.e. 'cats' doesn't need\n",
    "  to come after 'acts', it can just appear in the order it was given"
   ]
  },
  {
   "cell_type": "code",
   "execution_count": null,
   "metadata": {
    "collapsed": true
   },
   "outputs": [],
   "source": []
  }
 ],
 "metadata": {
  "kernelspec": {
   "display_name": "Python 2",
   "language": "python",
   "name": "python2"
  },
  "language_info": {
   "codemirror_mode": {
    "name": "ipython",
    "version": 2
   },
   "file_extension": ".py",
   "mimetype": "text/x-python",
   "name": "python",
   "nbconvert_exporter": "python",
   "pygments_lexer": "ipython2",
   "version": "2.7.13"
  }
 },
 "nbformat": 4,
 "nbformat_minor": 2
}
