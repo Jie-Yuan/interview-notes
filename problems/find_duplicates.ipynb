{
 "cells": [
  {
   "cell_type": "markdown",
   "metadata": {},
   "source": [
    "# Problem Statement:\n",
    "\n",
    "You have an array with all the numbers from 1 to N, where N is at most 32,000. The array may have duplicate entries and you do not know what N is. With only 4 kilobytes of memory available, how would you printall duplicate elements in the array?"
   ]
  },
  {
   "cell_type": "markdown",
   "metadata": {
    "collapsed": true
   },
   "source": [
    "# Assumptions:\n",
    "\n",
    "* use a python list with T/F vals as an ~= bit vector\n",
    "* use yield instead of print to sim. print solution but allow for testing via assert\n",
    "    "
   ]
  },
  {
   "cell_type": "code",
   "execution_count": 5,
   "metadata": {},
   "outputs": [],
   "source": [
    "def solution(alist):\n",
    "    n = 32000\n",
    "    seen = [False] * n  # bit vector approx.\n",
    "    for el in alist:\n",
    "        i = el - 1\n",
    "        if seen[i]:\n",
    "            yield el  # use yield instead of print for testing\n",
    "        else:\n",
    "            seen[i] = True\n",
    "            \n",
    "            \n",
    "alist = [1, 1, 3, 1, 31432, 222, 5412, 32000, 222]\n",
    "expected = [1, 1, 222]\n",
    "\n",
    "assert list(solution(alist)) == expected"
   ]
  },
  {
   "cell_type": "markdown",
   "metadata": {},
   "source": [
    "# Notes:\n",
    "\n",
    "* bit vectors are great!\n",
    "* I don't understand the logic behind the BitSet class methods in gayle's solution, for example, why divide by 32?\n",
    "* think KiB not KB!\n",
    "* always do input and output example/verification; make sure you know exactly what the interviewer is giving you as input and what they expect your solution to output -> print each duplicate element vs print each val in range 1 to N that has count > 1\n",
    "* favor consistent spacing(what gayle does and what I use to do) vs visually pleasing for equations/operators -> latter is subjective -> el / 2 - el \\* 3 vs el/2 - el\\*3?"
   ]
  },
  {
   "cell_type": "code",
   "execution_count": null,
   "metadata": {
    "collapsed": true
   },
   "outputs": [],
   "source": []
  }
 ],
 "metadata": {
  "kernelspec": {
   "display_name": "Python 2",
   "language": "python",
   "name": "python2"
  },
  "language_info": {
   "codemirror_mode": {
    "name": "ipython",
    "version": 2
   },
   "file_extension": ".py",
   "mimetype": "text/x-python",
   "name": "python",
   "nbconvert_exporter": "python",
   "pygments_lexer": "ipython2",
   "version": "2.7.13"
  }
 },
 "nbformat": 4,
 "nbformat_minor": 2
}
