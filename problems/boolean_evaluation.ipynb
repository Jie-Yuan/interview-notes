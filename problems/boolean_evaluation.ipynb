{
 "cells": [
  {
   "cell_type": "markdown",
   "metadata": {},
   "source": [
    "# Problem Statement:\n",
    "\n",
    "Given a boolean expression consisting of the symbols 0 (false), 1 (true), & (AND), | (OR), and ^ (XOR), and a desired boolean result value result, implement a function to count the number of ways of parenthesizing the expression such that it evaluates to result. The expression should be fully parenthesized (e.g., (0)^(1)) but not extraneously (e.g., (((0))^(1)).\n",
    "\n",
    "EXAMPLE\n",
    "\n",
    "countEval('1^0|0|1', false) -> 2\n",
    "\n",
    "countEval('0&0&0&1^1|0', true) -> 10"
   ]
  },
  {
   "cell_type": "markdown",
   "metadata": {
    "collapsed": true
   },
   "source": [
    "# Assumptions:\n",
    "\n",
    "* n/a\n",
    "    "
   ]
  },
  {
   "cell_type": "code",
   "execution_count": 12,
   "metadata": {},
   "outputs": [],
   "source": [
    "def count_eval(s, result, memo={}):\n",
    "    if not s:\n",
    "        return 0\n",
    "    if len(s) == 1:\n",
    "        return 1 if bool(int(s)) == result else 0\n",
    "    if (s, result) in memo:\n",
    "        return memo[(s, result)]\n",
    "    \n",
    "    ways = 0\n",
    "    for i in xrange(1, len(s), 2):\n",
    "        c = s[i]\n",
    "        left = s[:i]\n",
    "        right = s[i + 1:]\n",
    "        \n",
    "        left_true = count_eval(left, True, memo)\n",
    "        left_false = count_eval(left, False, memo)\n",
    "        right_true = count_eval(right, True, memo)\n",
    "        right_false = count_eval(right, False, memo)\n",
    "        total = (left_true + left_false) * (right_true + right_false)\n",
    "        \n",
    "        total_true = 0\n",
    "        if c == '^':\n",
    "            total_true = left_true * right_false + left_false * right_true\n",
    "        elif c == '&':\n",
    "            total_true = left_true * right_true\n",
    "        elif c == '|':\n",
    "            total_true = left_true * right_false + left_false * right_true + left_true * right_true\n",
    "                \n",
    "        ways += total_true if result else total - total_true\n",
    "        \n",
    "    memo[(s, result)] = ways\n",
    "    return ways\n",
    "\n",
    "examples = {('1^0|0|1', False): 2, ('0&0&0&1^1|0', True): 10 }\n",
    "for input_vals, result in examples.iteritems():\n",
    "    assert count_eval(*input_vals) == result"
   ]
  },
  {
   "cell_type": "markdown",
   "metadata": {},
   "source": [
    "# Notes:\n",
    "\n",
    "* don't spend so much time on 1 problem; flag it and come back to it\n",
    "* use ctci for a lots of practice in short time -> foundation\n",
    "* then use the hard section for refining i.e. more time on each problem = fewer problems overall"
   ]
  },
  {
   "cell_type": "code",
   "execution_count": null,
   "metadata": {
    "collapsed": true
   },
   "outputs": [],
   "source": []
  }
 ],
 "metadata": {
  "kernelspec": {
   "display_name": "Python 2",
   "language": "python",
   "name": "python2"
  },
  "language_info": {
   "codemirror_mode": {
    "name": "ipython",
    "version": 2
   },
   "file_extension": ".py",
   "mimetype": "text/x-python",
   "name": "python",
   "nbconvert_exporter": "python",
   "pygments_lexer": "ipython2",
   "version": "2.7.13"
  }
 },
 "nbformat": 4,
 "nbformat_minor": 2
}
