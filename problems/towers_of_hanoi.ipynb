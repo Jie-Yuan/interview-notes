{
 "cells": [
  {
   "cell_type": "markdown",
   "metadata": {},
   "source": [
    "# Problem Statement:\n",
    "\n",
    "In the classic problem of the Towers of Hanoi, you have 3 towers and N disks of different sizes which can slide onto any tower. The puzzle starts with disks sorted in ascending order of size from top to bottom (i.e., each disk sits on top of an even larger one). You have the following constraints:\n",
    "\n",
    "1) Only one disk can be moved at a time.\n",
    "\n",
    "2) A disk is slid off the top of one tower onto another tower.\n",
    "\n",
    "3) A disk cannot be placed on top of a smaller disk.\n",
    "\n",
    "Write a program to move the disks from the first tower to the last using stacks."
   ]
  },
  {
   "cell_type": "markdown",
   "metadata": {
    "collapsed": true
   },
   "source": [
    "# Assumptions:\n",
    "\n",
    "* n/a    "
   ]
  },
  {
   "cell_type": "code",
   "execution_count": 1,
   "metadata": {},
   "outputs": [],
   "source": [
    "def solution(n, source, destination, tmp):\n",
    "    if n > 0:\n",
    "        solution(n - 1, source, tmp, destination)\n",
    "        destination.append(source.pop())\n",
    "        solution(n - 1, tmp, destination, source)\n",
    "            \n",
    "\n",
    "n = 3\n",
    "s1 = range(n)\n",
    "s2 = []\n",
    "s3 = []\n",
    "\n",
    "solution(n, s1, s3, s2)\n",
    "\n",
    "assert not s1\n",
    "assert not s2\n",
    "assert range(n) == s3 "
   ]
  },
  {
   "cell_type": "markdown",
   "metadata": {},
   "source": [
    "# Notes:\n",
    "\n",
    "* when tracing recursive functions, by drawing out call stack, be CONSISTENT with how you label frames\n",
    "* what's the time complexity -> nums of nodes in tree = sum of powers of 2 = 2**(n+1) - 1"
   ]
  },
  {
   "cell_type": "code",
   "execution_count": null,
   "metadata": {
    "collapsed": true
   },
   "outputs": [],
   "source": []
  }
 ],
 "metadata": {
  "kernelspec": {
   "display_name": "Python 2",
   "language": "python",
   "name": "python2"
  },
  "language_info": {
   "codemirror_mode": {
    "name": "ipython",
    "version": 2
   },
   "file_extension": ".py",
   "mimetype": "text/x-python",
   "name": "python",
   "nbconvert_exporter": "python",
   "pygments_lexer": "ipython2",
   "version": "2.7.13"
  }
 },
 "nbformat": 4,
 "nbformat_minor": 2
}
