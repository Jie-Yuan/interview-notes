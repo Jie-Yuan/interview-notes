{
 "cells": [
  {
   "cell_type": "markdown",
   "metadata": {},
   "source": [
    "# Problem Statement:\n",
    "\n",
    "Imagine robot sitting on the upper left corner of grid with r rows and c columns. The robot can only move in two directions, right and down, but certain cells are 'off limits' such that the robot cannot step on them. Design an algorithm to find a path for the robot from the top left to the bottom right."
   ]
  },
  {
   "cell_type": "markdown",
   "metadata": {
    "collapsed": true
   },
   "source": [
    "# Assumptions:\n",
    "\n",
    "* let the grid be represented by a boolean 2-d list\n",
    "    "
   ]
  },
  {
   "cell_type": "code",
   "execution_count": 5,
   "metadata": {},
   "outputs": [],
   "source": [
    "def solution(grid):\n",
    "    path = []\n",
    "    if get_path(len(grid) - 1, len(grid) - 1, grid, path):\n",
    "        return path\n",
    "    return None\n",
    "\n",
    "def get_path(row, column, grid, path, failed_points=set()):\n",
    "    if row < 0 or column < 0 or not grid[row][column] or (row, column) in failed_points:\n",
    "        failed_points.add((row, column))\n",
    "        return False\n",
    "    \n",
    "    is_origin = row == 0 and column == 0\n",
    "    if is_origin or get_path(row, column - 1, grid, path) or get_path(row - 1, column, grid, path):\n",
    "        path.append((row, column))\n",
    "        return True\n",
    "    return False    \n",
    "            \n",
    "num_rows = 4\n",
    "num_columns = 4\n",
    "grid = [[True] * num_columns for _ in xrange(num_rows)]\n",
    "\n",
    "grid[3][1] = False\n",
    "grid[2][2] = False\n",
    "\n",
    "expected = [(0, 0), (1, 0), (1, 1), (1, 2), (1, 3), (2, 3), (3, 3)]\n",
    "assert solution(grid) == expected"
   ]
  },
  {
   "cell_type": "markdown",
   "metadata": {},
   "source": [
    "# Notes:\n",
    "\n",
    "* practice"
   ]
  },
  {
   "cell_type": "code",
   "execution_count": null,
   "metadata": {
    "collapsed": true
   },
   "outputs": [],
   "source": []
  }
 ],
 "metadata": {
  "kernelspec": {
   "display_name": "Python 2",
   "language": "python",
   "name": "python2"
  },
  "language_info": {
   "codemirror_mode": {
    "name": "ipython",
    "version": 2
   },
   "file_extension": ".py",
   "mimetype": "text/x-python",
   "name": "python",
   "nbconvert_exporter": "python",
   "pygments_lexer": "ipython2",
   "version": "2.7.13"
  }
 },
 "nbformat": 4,
 "nbformat_minor": 2
}
