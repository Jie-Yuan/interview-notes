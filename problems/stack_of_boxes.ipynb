{
 "cells": [
  {
   "cell_type": "markdown",
   "metadata": {},
   "source": [
    "# Problem Statement:\n",
    "\n",
    "You have a stack of n boxes, with widths wi, heights hi, and depths di. The boxes cannot be rotated and can only be stacked on top of one another if each box in the stack is strictly larger than the box above it in width, height, and depth. Implement a method to compute the height of the tallest possible stack. The height of a stack is the sum of the heights of each box."
   ]
  },
  {
   "cell_type": "markdown",
   "metadata": {
    "collapsed": true
   },
   "source": [
    "# Assumptions:\n",
    "\n",
    "* n/a\n",
    "    "
   ]
  },
  {
   "cell_type": "code",
   "execution_count": 16,
   "metadata": {},
   "outputs": [],
   "source": [
    "def max_stack_height_helper(boxes, bottom_index, memo):\n",
    "    num_boxes = len(boxes)\n",
    "    if bottom_index < num_boxes and bottom_index in memo:\n",
    "        return memo[bottom_index]\n",
    "    \n",
    "    max_height = 0\n",
    "    for i in xrange(bottom_index, num_boxes):\n",
    "        if boxes[i] < boxes[bottom_index]:\n",
    "            height = max_stack_height_helper(boxes, i, memo)\n",
    "            max_height = max(max_height, height)\n",
    "    max_height += boxes[bottom_index].height\n",
    "    memo[bottom_index] = max_height\n",
    "    return max_height\n",
    "\n",
    "def max_height(boxes):\n",
    "    boxes = sorted(boxes)\n",
    "    num_boxes = len(boxes)\n",
    "    max_height = 0\n",
    "    memo = {}\n",
    "    for i in xrange(num_boxes):\n",
    "        height = max_stack_height_helper(sorted(boxes), i, memo)\n",
    "        max_height = max(max_height, height)\n",
    "    return max_height\n",
    "\n",
    "class Box(object):\n",
    "    def __init__(self, width, height, depth):\n",
    "        self.width = width\n",
    "        self.height = height\n",
    "        self.depth = depth\n",
    "        \n",
    "    def __cmp__(self, other):\n",
    "        self = [self.width, self.height, self.depth]\n",
    "        other = [other.width, other.height, other.depth]\n",
    "        num_dims = len(self)\n",
    "        \n",
    "        if all(self[dim] > other[dim] for dim in xrange(num_dims)):\n",
    "            return 1\n",
    "        elif all(self[dim] == other[dim] for dim in xrange(num_dims)):\n",
    "            return 0\n",
    "        else:\n",
    "            return -1\n",
    "            \n",
    "            \n",
    "boxes = [Box(0, 10, 0)] * 5\n",
    "assert max_height(boxes) == 10\n",
    "\n",
    "boxes = [Box(0, 1, 0), Box(0, 2, 0), Box(0, 3, 0)]\n",
    "assert max_height(boxes) == sum(range(1, 4))"
   ]
  },
  {
   "cell_type": "markdown",
   "metadata": {},
   "source": [
    "# Notes:\n",
    "\n",
    "* getting there, keep it up!"
   ]
  },
  {
   "cell_type": "code",
   "execution_count": null,
   "metadata": {
    "collapsed": true
   },
   "outputs": [],
   "source": []
  }
 ],
 "metadata": {
  "kernelspec": {
   "display_name": "Python 2",
   "language": "python",
   "name": "python2"
  },
  "language_info": {
   "codemirror_mode": {
    "name": "ipython",
    "version": 2
   },
   "file_extension": ".py",
   "mimetype": "text/x-python",
   "name": "python",
   "nbconvert_exporter": "python",
   "pygments_lexer": "ipython2",
   "version": "2.7.13"
  }
 },
 "nbformat": 4,
 "nbformat_minor": 2
}
