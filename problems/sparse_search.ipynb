{
 "cells": [
  {
   "cell_type": "markdown",
   "metadata": {},
   "source": [
    "# Problem Statement:\n",
    "\n",
    "Given a sorted array of strings that is interspersed with empty strings, write a method to find the location of a given string.\n",
    "\n",
    "EXAMPLE\n",
    "\n",
    "Input: ball, ['at', '', '', '', 'ball', '', '', 'car', '', '', 'dad', '', '']\n",
    "\n",
    "Output: 4"
   ]
  },
  {
   "cell_type": "markdown",
   "metadata": {
    "collapsed": true
   },
   "source": [
    "# Assumptions:\n",
    "\n",
    "* n/a\n",
    "    "
   ]
  },
  {
   "cell_type": "code",
   "execution_count": 8,
   "metadata": {},
   "outputs": [],
   "source": [
    "def search(alist, target, low, high):\n",
    "    if low > high:\n",
    "        return None\n",
    "    \n",
    "    mid = (low + high) / 2\n",
    "    if not alist[mid]:\n",
    "        left = mid - 1\n",
    "        right = mid + 1\n",
    "        while True:\n",
    "            if left < low and right > high:\n",
    "                return None\n",
    "            elif left >= low and alist[left]:\n",
    "                mid = left\n",
    "                break\n",
    "            elif right <= high and alist[right]:\n",
    "                mid = right\n",
    "                break\n",
    "            right += 1\n",
    "            left -= 1\n",
    "            \n",
    "    if alist[mid] == target:\n",
    "        return mid\n",
    "    elif target < alist[mid]:\n",
    "        return search(alist, target, low, mid - 1)\n",
    "    else:\n",
    "        return search(alist, target, mid + 1, high)\n",
    "    \n",
    "def solution(alist, target):\n",
    "    if not alist or not target:\n",
    "        return None\n",
    "    \n",
    "    return search(alist, target, 0, len(alist) - 1)\n",
    "            \n",
    "            \n",
    "alist = ['at', '', '', '', 'ball', '', '', 'car', '', '', 'dad', '', '']\n",
    "\n",
    "assert solution(alist, 'ball') == alist.index(target)\n",
    "assert solution(alist, 'ctci') == None"
   ]
  },
  {
   "cell_type": "markdown",
   "metadata": {},
   "source": [
    "# Notes:\n",
    "\n",
    "* coding style -> in this case choice of elif vs if is a style choice = elif is more explicit i.e. conveys more to the reader immediately; it is quickly apparent that the cases are mutally exclusive\n",
    "* ask about inputs i.e. can they be empty, how should I handle a target that is an empty string, etc\n",
    "* why cant we use the same approach as 'search in rotated array' -> this is simpler in many respects and also provides a different angle specific to this problem -> gayle's thought process?"
   ]
  },
  {
   "cell_type": "code",
   "execution_count": null,
   "metadata": {
    "collapsed": true
   },
   "outputs": [],
   "source": []
  }
 ],
 "metadata": {
  "kernelspec": {
   "display_name": "Python 2",
   "language": "python",
   "name": "python2"
  },
  "language_info": {
   "codemirror_mode": {
    "name": "ipython",
    "version": 2
   },
   "file_extension": ".py",
   "mimetype": "text/x-python",
   "name": "python",
   "nbconvert_exporter": "python",
   "pygments_lexer": "ipython2",
   "version": "2.7.13"
  }
 },
 "nbformat": 4,
 "nbformat_minor": 2
}
