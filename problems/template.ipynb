{
 "cells": [
  {
   "cell_type": "markdown",
   "metadata": {},
   "source": [
    "# Problem Statement:\n",
    "\n",
    "You are given two sorted arrays, A and B, where A has a large enough buffer at the end to hold B. Write a method to merge B into A in sorted order."
   ]
  },
  {
   "cell_type": "markdown",
   "metadata": {
    "collapsed": true
   },
   "source": [
    "# Assumptions:\n",
    "\n",
    "* let the buffer extension be represented with a list with None padded on the end\n",
    "    "
   ]
  },
  {
   "cell_type": "code",
   "execution_count": 6,
   "metadata": {},
   "outputs": [],
   "source": [
    "def merge(a, b):\n",
    "    \"\"\"This function merges list b into list a.\n",
    "    \n",
    "    Time Complexity: O(len(a))\n",
    "    Space(Auxillary) Complexity: O(1)\n",
    "    \"\"\"\n",
    "    idx_a = a.index(None)-1\n",
    "    idx_b = len(b)-1\n",
    "    idx_merge = len(a)-1\n",
    "    \n",
    "    while idx_b >= 0:\n",
    "        if idx_a >= 0 and a[idx_a] > b[idx_b]:\n",
    "            a[idx_merge] = a[idx_a]\n",
    "            idx_a -= 1\n",
    "        else:\n",
    "            a[idx_merge] = b[idx_b]\n",
    "            idx_b -= 1\n",
    "        idx_merge -= 1\n",
    "            \n",
    "            \n",
    "a = [2, 22, 23, 54, 444, None, None, None]\n",
    "b = [21, 34, 66]\n",
    "\n",
    "expected = sorted(a[:a.index(None)] + b)\n",
    "merge(a, b)\n",
    "\n",
    "assert a == expected"
   ]
  },
  {
   "cell_type": "markdown",
   "metadata": {},
   "source": [
    "# Notes:\n",
    "\n",
    "* really think about the problem statement:\n",
    " * what is the significance of the increased buffer -> write b into a"
   ]
  },
  {
   "cell_type": "code",
   "execution_count": null,
   "metadata": {
    "collapsed": true
   },
   "outputs": [],
   "source": []
  }
 ],
 "metadata": {
  "kernelspec": {
   "display_name": "Python 2",
   "language": "python",
   "name": "python2"
  },
  "language_info": {
   "codemirror_mode": {
    "name": "ipython",
    "version": 2
   },
   "file_extension": ".py",
   "mimetype": "text/x-python",
   "name": "python",
   "nbconvert_exporter": "python",
   "pygments_lexer": "ipython2",
   "version": "2.7.13"
  }
 },
 "nbformat": 4,
 "nbformat_minor": 2
}
