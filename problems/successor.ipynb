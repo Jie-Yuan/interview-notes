{
 "cells": [
  {
   "cell_type": "markdown",
   "metadata": {},
   "source": [
    "# Problem Statement:\n",
    "\n",
    "Write an algorithm to find the \"next\" node (i.e., in-order successor) of a given node in a binary search tree. You may assume that each node has a link to its parent."
   ]
  },
  {
   "cell_type": "markdown",
   "metadata": {
    "collapsed": true
   },
   "source": [
    "# Assumptions:\n",
    "\n",
    "* n/a"
   ]
  },
  {
   "cell_type": "code",
   "execution_count": 3,
   "metadata": {},
   "outputs": [],
   "source": [
    "def get_successor(root):\n",
    "    if root is None:\n",
    "        return None\n",
    "    \n",
    "    if root.right is not None:\n",
    "        return leftmost_child(root.right)\n",
    "    else:\n",
    "        while root.parent is not None and root != root.parent.left:\n",
    "            root = root.parent\n",
    "        return root.parent\n",
    "    \n",
    "    \n",
    "def leftmost_child(root):\n",
    "    if root is None:\n",
    "        return None\n",
    "    \n",
    "    while root.left is not None:\n",
    "        root = root.left\n",
    "    return root\n",
    "            \n",
    "            \n",
    "class TreeNode(object):\n",
    "    def __init__(self, data, parent=None):\n",
    "        self.data = data\n",
    "        self.left = None\n",
    "        self.right = None\n",
    "        self.parent = parent\n",
    "            \n",
    "\n",
    "root = TreeNode(50)\n",
    "root.left = TreeNode(25, root)\n",
    "root.right = TreeNode(75, root)\n",
    "root.right.left = TreeNode(60, root.right)\n",
    "root.right.right = TreeNode(80, root.right)\n",
    "root.left.left = TreeNode(10, root.left)\n",
    "root.left.right = TreeNode(30, root.left)\n",
    "\n",
    "assert get_successor(root) == root.right.left\n",
    "assert get_successor(root.left.right) == root"
   ]
  },
  {
   "cell_type": "markdown",
   "metadata": {},
   "source": [
    "# Notes:\n",
    "\n",
    "* still not very good at seeing obvious failures in my proposed solutions\n",
    "* much more vocal with my thought process though which helped!"
   ]
  },
  {
   "cell_type": "code",
   "execution_count": null,
   "metadata": {
    "collapsed": true
   },
   "outputs": [],
   "source": []
  }
 ],
 "metadata": {
  "kernelspec": {
   "display_name": "Python 2",
   "language": "python",
   "name": "python2"
  },
  "language_info": {
   "codemirror_mode": {
    "name": "ipython",
    "version": 2
   },
   "file_extension": ".py",
   "mimetype": "text/x-python",
   "name": "python",
   "nbconvert_exporter": "python",
   "pygments_lexer": "ipython2",
   "version": "2.7.13"
  }
 },
 "nbformat": 4,
 "nbformat_minor": 2
}
