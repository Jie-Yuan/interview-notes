{
 "cells": [
  {
   "cell_type": "markdown",
   "metadata": {},
   "source": [
    "# Problem Statement:\n",
    "\n",
    "You are given an array-like data structure Listy which lacks a size method. It does, however, have an elementAt(i) method that returns the element at index i in O(1) time. If i is beyond the bounds of the data structure, it returns -1. (For this reason, the data structure only supports positive integers.) Given Listy which contains sorted, positive integers, find the index at which an element x occurs. If x occurs multiple times, you may return any index."
   ]
  },
  {
   "cell_type": "markdown",
   "metadata": {},
   "source": [
    "# Assumptions:\n",
    "\n",
    "* elementAt -> element_at"
   ]
  },
  {
   "cell_type": "code",
   "execution_count": 7,
   "metadata": {
    "collapsed": true
   },
   "outputs": [],
   "source": [
    "class Listy(list):\n",
    "    def element_at(self, key):\n",
    "        try:\n",
    "            return super(Listy, self).__getitem__(key)\n",
    "        except:\n",
    "            return -1"
   ]
  },
  {
   "cell_type": "code",
   "execution_count": 12,
   "metadata": {
    "collapsed": true
   },
   "outputs": [],
   "source": [
    "def solution(a_listy, target):\n",
    "    i = 1\n",
    "    while a_listy.element_at(i) != -1 and a_listy.element_at(i) < target:\n",
    "        i *= 2\n",
    "        \n",
    "    return binary_search(a_listy, target, i / 2, i)\n",
    "\n",
    "def binary_search(a_listy, target, low, high):\n",
    "    while low <= high:\n",
    "        mid = (low + high) / 2\n",
    "        curr = a_listy.element_at(mid)\n",
    "        if curr == target:\n",
    "            return mid\n",
    "        elif target < curr or curr == -1:\n",
    "            high = mid - 1\n",
    "        else:\n",
    "            low = mid + 1\n",
    "    return -1"
   ]
  },
  {
   "cell_type": "code",
   "execution_count": 16,
   "metadata": {},
   "outputs": [],
   "source": [
    "from random import choice\n",
    "from random import randint\n",
    "\n",
    "a_listy = Listy(range(10**7))\n",
    "\n",
    "# val not in Listy\n",
    "assert solution(a_listy, -float('inf')) == -1\n",
    "assert solution(a_listy, float('inf')) == -1\n",
    "\n",
    "# val in Listy\n",
    "target = choice(a_listy)\n",
    "assert solution(a_listy, target) == target "
   ]
  },
  {
   "cell_type": "markdown",
   "metadata": {},
   "source": [
    "# Notes:\n",
    "\n",
    "* exponential backoff -> handy\n",
    "* modified binary search -> handy"
   ]
  },
  {
   "cell_type": "code",
   "execution_count": null,
   "metadata": {
    "collapsed": true
   },
   "outputs": [],
   "source": []
  }
 ],
 "metadata": {
  "kernelspec": {
   "display_name": "Python 2",
   "language": "python",
   "name": "python2"
  },
  "language_info": {
   "codemirror_mode": {
    "name": "ipython",
    "version": 2
   },
   "file_extension": ".py",
   "mimetype": "text/x-python",
   "name": "python",
   "nbconvert_exporter": "python",
   "pygments_lexer": "ipython2",
   "version": "2.7.13"
  }
 },
 "nbformat": 4,
 "nbformat_minor": 2
}
