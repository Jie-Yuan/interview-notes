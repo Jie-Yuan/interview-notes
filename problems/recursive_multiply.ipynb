{
 "cells": [
  {
   "cell_type": "markdown",
   "metadata": {},
   "source": [
    "# Problem Statement:\n",
    "\n",
    "Write a function to multiply two positive integers without using the * operator. You can use addition, subtraction, and bit shifting, but you should minimize the number of those operations."
   ]
  },
  {
   "cell_type": "markdown",
   "metadata": {
    "collapsed": true
   },
   "source": [
    "# Assumptions:\n",
    "\n",
    "* n/a\n",
    "    "
   ]
  },
  {
   "cell_type": "code",
   "execution_count": 1,
   "metadata": {
    "collapsed": true
   },
   "outputs": [],
   "source": [
    "def solution(a, b):\n",
    "    return solution_helper(min(a, b), max(a, b))\n",
    "\n",
    "def solution_helper(smaller, larger):\n",
    "    if smaller == 0:\n",
    "        return 0\n",
    "    if smaller == 1:\n",
    "        return larger\n",
    "    \n",
    "    half_prod = solution_helper(smaller / 2, larger)\n",
    "    total_prod = half_prod + half_prod\n",
    "    if smaller % 2 == 1:\n",
    "        total_prod += larger\n",
    "    return total_prod\n",
    "            \n",
    "            \n",
    "for a, b in [(9, 7), (8, 9), (0, 9)]:\n",
    "    assert solution(a, b) == a * b"
   ]
  },
  {
   "cell_type": "markdown",
   "metadata": {},
   "source": [
    "# Notes:\n",
    "\n",
    "* need practice\n",
    "* look for key clues in problem statement -> minimize the num of those ops\n",
    "* time & space(aux) complexity = O(lg(smaller))\n",
    "* example of 'half and half' recursion"
   ]
  },
  {
   "cell_type": "code",
   "execution_count": null,
   "metadata": {
    "collapsed": true
   },
   "outputs": [],
   "source": []
  }
 ],
 "metadata": {
  "kernelspec": {
   "display_name": "Python 2",
   "language": "python",
   "name": "python2"
  },
  "language_info": {
   "codemirror_mode": {
    "name": "ipython",
    "version": 2
   },
   "file_extension": ".py",
   "mimetype": "text/x-python",
   "name": "python",
   "nbconvert_exporter": "python",
   "pygments_lexer": "ipython2",
   "version": "2.7.13"
  }
 },
 "nbformat": 4,
 "nbformat_minor": 2
}
