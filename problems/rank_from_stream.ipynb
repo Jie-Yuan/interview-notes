{
 "cells": [
  {
   "cell_type": "markdown",
   "metadata": {},
   "source": [
    "# Problem Statement:\n",
    "\n",
    "Imagine you are reading in a stream of integers. Periodically, you wish to be able to look up the rank of a number x (the number of values less than or equal to x). Implement the data structures and algorithms to support these operations. That is, implement the moethod track(int x), which is called when each number is generated, and the method getRankOfNumber(int x), which returns the number of values less than or equal to x (not including x itself).\n",
    "\n",
    "EXAMPLE\n",
    "\n",
    "Stream (in order of appearance): 5, 1, 4, 4, 5, 9, 7, 13, 3\n",
    "\n",
    "getRankOfNumber(1) = 0\n",
    "\n",
    "getRankOfNumber(3) = 1\n",
    "\n",
    "getRankOfNumber(4) = 3"
   ]
  },
  {
   "cell_type": "markdown",
   "metadata": {
    "collapsed": true
   },
   "source": [
    "# Assumptions:\n",
    "\n",
    "* use underscore instead of camel case for fxn names\n",
    "    "
   ]
  },
  {
   "cell_type": "code",
   "execution_count": 17,
   "metadata": {},
   "outputs": [],
   "source": [
    "def track(val, root):\n",
    "    if root is None:\n",
    "        root = RankNode(val)\n",
    "    else:\n",
    "        root.insert(val)\n",
    "    return root\n",
    "\n",
    "def get_rank_of_number(val, root):\n",
    "    return root.get_rank(val)\n",
    "\n",
    "\n",
    "class RankNode(object):\n",
    "    def __init__(self, val):\n",
    "        self.left_size = 0\n",
    "        self.left = None\n",
    "        self.right = None\n",
    "        self.data = val\n",
    "        \n",
    "    def insert(self, val):\n",
    "        if val <= self.data:\n",
    "            if self.left is not None:\n",
    "                self.left.insert(val)\n",
    "            else:\n",
    "                self.left = RankNode(val)\n",
    "            self.left_size += 1\n",
    "        else:\n",
    "            if self.right is not None:\n",
    "                self.right.insert(val)\n",
    "            else:\n",
    "                self.right = RankNode(val)\n",
    "                \n",
    "    def get_rank(self, val):\n",
    "        if val == self.data:\n",
    "            return self.left_size\n",
    "        elif val < self.data:\n",
    "            if self.left is None:\n",
    "                return None\n",
    "            else:\n",
    "                return self.left.get_rank(val)\n",
    "        else:\n",
    "            if self.right is None:\n",
    "                return None\n",
    "            else:\n",
    "                right_rank = self.right.get_rank(val)\n",
    "                if right_rank is None:\n",
    "                    return None\n",
    "                else:\n",
    "                    return self.left_size + 1 + right_rank\n",
    "            \n",
    "root = None            \n",
    "stream = [5, 1, 4, 4, 5, 9, 7, 13, 3]\n",
    "for el in stream:\n",
    "    root = track(el, root)\n",
    "\n",
    "assert get_rank_of_number(1, root) == 0\n",
    "assert get_rank_of_number(3, root) == 1\n",
    "assert get_rank_of_number(4, root) == 3\n",
    "assert get_rank_of_number(222, root) is None"
   ]
  },
  {
   "cell_type": "markdown",
   "metadata": {},
   "source": [
    "# Notes:\n",
    "\n",
    "* the recursive logic in get_rank makes sense but doesnt seem to come naturally/intuitively to me\n",
    "* bsts are very good at keeping relative ordering during an insertion -> unlike an array\n",
    "* if example data is given, USE IT IT PROBABLY IS A GOOD EXAMPLE/HAS HINTS\n",
    "* I was able to work off the hints -> improvement\n"
   ]
  },
  {
   "cell_type": "code",
   "execution_count": null,
   "metadata": {
    "collapsed": true
   },
   "outputs": [],
   "source": []
  }
 ],
 "metadata": {
  "kernelspec": {
   "display_name": "Python 2",
   "language": "python",
   "name": "python2"
  },
  "language_info": {
   "codemirror_mode": {
    "name": "ipython",
    "version": 2
   },
   "file_extension": ".py",
   "mimetype": "text/x-python",
   "name": "python",
   "nbconvert_exporter": "python",
   "pygments_lexer": "ipython2",
   "version": "2.7.13"
  }
 },
 "nbformat": 4,
 "nbformat_minor": 2
}
