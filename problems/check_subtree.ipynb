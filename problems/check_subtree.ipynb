{
 "cells": [
  {
   "cell_type": "markdown",
   "metadata": {},
   "source": [
    "# Problem Statement:\n",
    "\n",
    "T1 and T2 are two very large binary trees, with T1 much bigger than T2. Create an algorithm to determine if T2 is a subtree of T1.\n",
    "\n",
    "A tree T2 is a subtree of T1 if there exists a node n in T1 such that the subtree of n is identical to T2. That is, if you cut off the tree at node n, the two trees would be identical."
   ]
  },
  {
   "cell_type": "markdown",
   "metadata": {
    "collapsed": true
   },
   "source": [
    "# Assumptions:\n",
    "\n",
    "* n/a\n",
    "    "
   ]
  },
  {
   "cell_type": "code",
   "execution_count": 6,
   "metadata": {},
   "outputs": [],
   "source": [
    "def is_subtree(t1, t2):\n",
    "    order1 = []\n",
    "    order2 = []\n",
    "    \n",
    "    get_order(t1, order1)\n",
    "    get_order(t2, order2)\n",
    "    \n",
    "    order1 = ''.join(map(str, order1))\n",
    "    order2 = ''.join(map(str, order2))\n",
    "    \n",
    "    return order2 in order1\n",
    "\n",
    "def get_order(root, order):\n",
    "    order.append(root)\n",
    "    if root is not None:\n",
    "        get_order(root.left, order)\n",
    "        get_order(root.right, order)\n",
    "    \n",
    "class TreeNode(object):\n",
    "    def __init__(self, data, parent=None):\n",
    "        self.data = data\n",
    "        self.left = None\n",
    "        self.right = None\n",
    "            \n",
    "\n",
    "root = TreeNode(50)\n",
    "root.left = TreeNode(25, root)\n",
    "root.right = TreeNode(75, root)\n",
    "root.right.left = TreeNode(60, root.right)\n",
    "root.right.right = TreeNode(80, root.right)\n",
    "root.left.left = TreeNode(10, root.left)\n",
    "root.left.right = TreeNode(30, root.left)\n",
    "\n",
    "assert is_subtree(root, root.right.right)"
   ]
  },
  {
   "cell_type": "code",
   "execution_count": 8,
   "metadata": {},
   "outputs": [],
   "source": [
    "def is_subtree(r1, r2):\n",
    "    if r1 is None:\n",
    "        return False\n",
    "    if r1.data == r2.data and is_equal_tree(r1, r2):\n",
    "        return True\n",
    "    \n",
    "    return is_subtree(r1.left, r2) or is_subtree(r1.right, r2)\n",
    "\n",
    "def is_equal_tree(r1, r2):\n",
    "    if r1 is None and r2 is None:\n",
    "        return True\n",
    "    if r1 is None or r2 is None:\n",
    "        return False\n",
    "    if r1.data != r2.data:\n",
    "        return False\n",
    "    return is_equal_tree(r1.left, r2.left) and is_equal_tree(r1.right, r2.right)\n",
    "\n",
    "assert is_subtree(root, root.right.right)"
   ]
  },
  {
   "cell_type": "markdown",
   "metadata": {},
   "source": [
    "# Notes:\n",
    "\n",
    "* trying something new, no time limit at whiteboard as suggested by gayle:\n",
    "  * https://www.quora.com/Should-I-set-myself-a-deadline-for-each-problem-in-the-%E2%80%9CCracking-the-Coding-Interview%E2%80%9D-book-I-get-stuck-on-almost-every-question-and-take-hours-or-days-to-solve-or-give-up-on-a-problem-How-long-should-each-problem-take-How-can-I-become-faster\n",
    "  * Then again idk that she is really suggesting not to put any time limit, that seems idealistic. I think she is trying to get the OP's mindset in the right place i.e. focus on the problem solving not the actual solutions."
   ]
  },
  {
   "cell_type": "code",
   "execution_count": null,
   "metadata": {
    "collapsed": true
   },
   "outputs": [],
   "source": []
  }
 ],
 "metadata": {
  "kernelspec": {
   "display_name": "Python 2",
   "language": "python",
   "name": "python2"
  },
  "language_info": {
   "codemirror_mode": {
    "name": "ipython",
    "version": 2
   },
   "file_extension": ".py",
   "mimetype": "text/x-python",
   "name": "python",
   "nbconvert_exporter": "python",
   "pygments_lexer": "ipython2",
   "version": "2.7.13"
  }
 },
 "nbformat": 4,
 "nbformat_minor": 2
}
