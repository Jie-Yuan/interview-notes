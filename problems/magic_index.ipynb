{
 "cells": [
  {
   "cell_type": "markdown",
   "metadata": {},
   "source": [
    "# Problem Statement:\n",
    "\n",
    "A magic index in an array A[0...n-1] is defined to be an index such that A[i] = i. Given a sorted array of distinct integers, write a method to find a magic index, if one exists, in array A.\n",
    "\n",
    "FOLLOW UP\n",
    "\n",
    "What if the values are not distinct?"
   ]
  },
  {
   "cell_type": "markdown",
   "metadata": {
    "collapsed": true
   },
   "source": [
    "# Assumptions:\n",
    "\n",
    "* n/a\n",
    "    "
   ]
  },
  {
   "cell_type": "code",
   "execution_count": 5,
   "metadata": {},
   "outputs": [],
   "source": [
    "def solution(alist, low, high):\n",
    "    if low > high:\n",
    "        return None\n",
    "    \n",
    "    mid = (low + high) / 2\n",
    "    if alist[mid] == mid:\n",
    "        return mid\n",
    "    elif mid < alist[mid]:\n",
    "        return solution(alist, low, mid - 1)\n",
    "    else:\n",
    "        return solution(alist, mid + 1, low)\n",
    "    \n",
    "def solution_follow(alist, low, high):\n",
    "    if low > high:\n",
    "        return None\n",
    "    \n",
    "    mid = (low + high) / 2\n",
    "    if alist[mid] == mid:\n",
    "        return mid\n",
    "    left = solution(alist, low, min(mid - 1, alist[mid]))\n",
    "    if left is not None:\n",
    "        return left\n",
    "    return solution(alist, max(mid - 1, alist[mid]), high)\n",
    "            \n",
    "            \n",
    "alist = [0, 1, 7, 8, 9, 10, 20, 200, 300, 500, 600]\n",
    "\n",
    "assert solution(alist, 0, len(alist)) == 0\n",
    "assert solution(alist[2:], 0, len(alist[2:])) is None\n",
    "\n",
    "assert solution_follow(alist, 0, len(alist)) == 0\n",
    "assert solution_follow(alist[2:], 0, len(alist[2:])) is None"
   ]
  },
  {
   "cell_type": "markdown",
   "metadata": {},
   "source": [
    "# Notes:\n",
    "\n",
    "* EXAMPLES EXAMPLES EXAMPLES especially for follow up\n",
    "* mod bin search is awesome\n",
    "* practice practice practice\n",
    "* got the dups case in the alotted time with code! yay progress!\n",
    "* missed half of the follow up; didnt realize we could still skip elements -> check all cases/do example -> this also comes with practice/intuition"
   ]
  },
  {
   "cell_type": "code",
   "execution_count": null,
   "metadata": {
    "collapsed": true
   },
   "outputs": [],
   "source": []
  }
 ],
 "metadata": {
  "kernelspec": {
   "display_name": "Python 2",
   "language": "python",
   "name": "python2"
  },
  "language_info": {
   "codemirror_mode": {
    "name": "ipython",
    "version": 2
   },
   "file_extension": ".py",
   "mimetype": "text/x-python",
   "name": "python",
   "nbconvert_exporter": "python",
   "pygments_lexer": "ipython2",
   "version": "2.7.13"
  }
 },
 "nbformat": 4,
 "nbformat_minor": 2
}
