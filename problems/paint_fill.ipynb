{
 "cells": [
  {
   "cell_type": "markdown",
   "metadata": {},
   "source": [
    "# Problem Statement:\n",
    "\n",
    "Implement the 'paint fill' function that one might see on many image editing programs. That is, given a screen (represented by a two-dimensional array of colors), a point, and a new color, fill in the surrounding area until the color changes from the original color."
   ]
  },
  {
   "cell_type": "markdown",
   "metadata": {
    "collapsed": true
   },
   "source": [
    "# Assumptions:\n",
    "\n",
    "* n/a\n",
    "    "
   ]
  },
  {
   "cell_type": "code",
   "execution_count": 7,
   "metadata": {},
   "outputs": [],
   "source": [
    "def paint_fill(colors, row, column, fill_color):\n",
    "    if colors[row][column] == fill_color:\n",
    "        return False\n",
    "    return paint_fill_helper(colors, row, column, colors[row][column], fill_color)\n",
    "    \n",
    "def paint_fill_helper(colors, row, column, original_color, fill_color):\n",
    "    if row < 0 or row >= len(colors) or column < 0 or column >= len(colors[0]):\n",
    "        return False\n",
    "    \n",
    "    if colors[row][column] == original_color:\n",
    "        colors[row][column] = fill_color\n",
    "        paint_fill_helper(colors, row - 1, column, original_color, fill_color)\n",
    "        paint_fill_helper(colors, row + 1, column, original_color, fill_color)\n",
    "        paint_fill_helper(colors, row, column - 1, original_color, fill_color)\n",
    "        paint_fill_helper(colors, row, column + 1, original_color, fill_color)\n",
    "    return True\n",
    "            \n",
    "num_rows = 5\n",
    "num_columns = 5\n",
    "actual = [['red'] * num_columns for _ in xrange(num_rows)]\n",
    "expected = [['blue'] * num_columns for _ in xrange(num_rows)]\n",
    "paint_fill(actual, 0, 0, 'blue')\n",
    "\n",
    "for row in xrange(num_rows):\n",
    "    for column in xrange(num_columns):\n",
    "        assert actual[row][column] == expected[row][column]"
   ]
  },
  {
   "cell_type": "markdown",
   "metadata": {},
   "source": [
    "# Notes:\n",
    "\n",
    "* I immediately thought dfs/bfs but for some reason I picked bfs; make conscious decisions i.e. ones you can justify"
   ]
  },
  {
   "cell_type": "code",
   "execution_count": null,
   "metadata": {
    "collapsed": true
   },
   "outputs": [],
   "source": []
  }
 ],
 "metadata": {
  "kernelspec": {
   "display_name": "Python 2",
   "language": "python",
   "name": "python2"
  },
  "language_info": {
   "codemirror_mode": {
    "name": "ipython",
    "version": 2
   },
   "file_extension": ".py",
   "mimetype": "text/x-python",
   "name": "python",
   "nbconvert_exporter": "python",
   "pygments_lexer": "ipython2",
   "version": "2.7.13"
  }
 },
 "nbformat": 4,
 "nbformat_minor": 2
}
