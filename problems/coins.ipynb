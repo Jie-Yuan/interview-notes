{
 "cells": [
  {
   "cell_type": "markdown",
   "metadata": {},
   "source": [
    "# Problem Statement:\n",
    "\n",
    "Given an infinite number of quarters, dimes, nickels, and pennies, write code to calculate the number of ways of representing n cents."
   ]
  },
  {
   "cell_type": "markdown",
   "metadata": {
    "collapsed": true
   },
   "source": [
    "# Assumptions:\n",
    "\n",
    "* n/a    "
   ]
  },
  {
   "cell_type": "code",
   "execution_count": 20,
   "metadata": {},
   "outputs": [],
   "source": [
    "def num_ways(amount, coins, i):\n",
    "    if i >= len(coins) - 1:\n",
    "        return 1\n",
    "    \n",
    "    count = 0\n",
    "    while amount >= 0:\n",
    "        count += num_ways(amount, coins, i + 1)\n",
    "        amount -= coins[i]\n",
    "    return count\n",
    "        \n",
    "            \n",
    "amount = 100\n",
    "coins = [25, 10, 5, 1]\n",
    "i = 0\n",
    "expected = 242\n",
    "\n",
    "assert num_ways(amount, coins, i) == expected"
   ]
  },
  {
   "cell_type": "code",
   "execution_count": 22,
   "metadata": {},
   "outputs": [],
   "source": [
    "def num_ways(amount, coins, i, memo):\n",
    "    if (amount, i) in memo:\n",
    "        return memo[(amount, i)]\n",
    "    if i >= len(coins) - 1:\n",
    "        return 1\n",
    "    \n",
    "    count = 0\n",
    "    while amount >= 0:\n",
    "        count += num_ways(amount, coins, i + 1, memo)\n",
    "        amount -= coins[i]\n",
    "    return count\n",
    "\n",
    "assert num_ways(amount, coins, i, {}) == expected"
   ]
  },
  {
   "cell_type": "markdown",
   "metadata": {},
   "source": [
    "# Notes:\n",
    "\n",
    "* I still have a REALLY hard time with this/these problem/problems -> need to come back and work on recursion/dp more"
   ]
  },
  {
   "cell_type": "code",
   "execution_count": null,
   "metadata": {
    "collapsed": true
   },
   "outputs": [],
   "source": []
  }
 ],
 "metadata": {
  "kernelspec": {
   "display_name": "Python 2",
   "language": "python",
   "name": "python2"
  },
  "language_info": {
   "codemirror_mode": {
    "name": "ipython",
    "version": 2
   },
   "file_extension": ".py",
   "mimetype": "text/x-python",
   "name": "python",
   "nbconvert_exporter": "python",
   "pygments_lexer": "ipython2",
   "version": "2.7.13"
  }
 },
 "nbformat": 4,
 "nbformat_minor": 2
}
