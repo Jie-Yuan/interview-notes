{
 "cells": [
  {
   "cell_type": "markdown",
   "metadata": {},
   "source": [
    "# Problem Statement:\n",
    "\n",
    "Given a sorted (increasing order) array with unique integer elements, write an algorithm to create a binary search tree with minimal height."
   ]
  },
  {
   "cell_type": "markdown",
   "metadata": {
    "collapsed": true
   },
   "source": [
    "# Assumptions:\n",
    "\n",
    "* n/a"
   ]
  },
  {
   "cell_type": "code",
   "execution_count": 3,
   "metadata": {},
   "outputs": [],
   "source": [
    "def create_min_bst(arr):\n",
    "    return create_min_bst_helper(arr, 0, len(arr) - 1)\n",
    "\n",
    "def create_min_bst_helper(arr, start, end):\n",
    "    if start > end:\n",
    "        return None\n",
    "    \n",
    "    mid = (end + start) / 2\n",
    "    node = TreeNode(arr[mid])\n",
    "    node.left = create_min_bst_helper(arr, start, mid - 1)\n",
    "    node.right = create_min_bst_helper(arr, mid + 1, end)\n",
    "    return node\n",
    "\n",
    "class TreeNode(object):\n",
    "    def __init__(self, data):\n",
    "        self.data = data\n",
    "        self.left = None\n",
    "        self.right = None\n",
    "\n",
    "def preorder(node, path):\n",
    "    if node is not None:\n",
    "        path.append(node.data)\n",
    "        preorder(node.left, path)\n",
    "        preorder(node.right, path)\n",
    "    \n",
    "arr = range(7)\n",
    "node = create_min_bst(arr)\n",
    "\n",
    "path = []\n",
    "preorder(node, path)\n",
    "assert path == [3, 1, 0, 2, 5, 4, 6]"
   ]
  },
  {
   "cell_type": "markdown",
   "metadata": {},
   "source": [
    "# Notes:\n",
    "\n",
    "* oops howd you miss this; you got the solution but didnt realize you need to recurse haha\n",
    "* good example to drive home/drill into memory the nuiances of a bst"
   ]
  },
  {
   "cell_type": "code",
   "execution_count": null,
   "metadata": {
    "collapsed": true
   },
   "outputs": [],
   "source": []
  }
 ],
 "metadata": {
  "kernelspec": {
   "display_name": "Python 2",
   "language": "python",
   "name": "python2"
  },
  "language_info": {
   "codemirror_mode": {
    "name": "ipython",
    "version": 2
   },
   "file_extension": ".py",
   "mimetype": "text/x-python",
   "name": "python",
   "nbconvert_exporter": "python",
   "pygments_lexer": "ipython2",
   "version": "2.7.13"
  }
 },
 "nbformat": 4,
 "nbformat_minor": 2
}
