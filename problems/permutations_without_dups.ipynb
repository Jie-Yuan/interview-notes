{
 "cells": [
  {
   "cell_type": "markdown",
   "metadata": {},
   "source": [
    "# Problem Statement:\n",
    "\n",
    "TODO"
   ]
  },
  {
   "cell_type": "markdown",
   "metadata": {
    "collapsed": true
   },
   "source": [
    "# Assumptions:\n",
    "\n",
    "* n/a\n",
    "    "
   ]
  },
  {
   "cell_type": "code",
   "execution_count": 17,
   "metadata": {
    "collapsed": true
   },
   "outputs": [],
   "source": [
    "from itertools import permutations\n",
    "\n",
    "def solution(chars, perms, curr=''):\n",
    "    if not chars:\n",
    "        perms.append(curr)\n",
    "    \n",
    "    for i in xrange(len(chars)):\n",
    "        solution(chars[:i] + chars[i + 1:], perms, curr + chars[i])\n",
    "            \n",
    "            \n",
    "chars = 'abcde'\n",
    "perms = []\n",
    "solution(chars, perms)\n",
    "\n",
    "expected = set(''.join(p) for p in permutations('abcde'))\n",
    "for p in set(perms):\n",
    "    assert p in expected"
   ]
  },
  {
   "cell_type": "markdown",
   "metadata": {},
   "source": [
    "# Notes:\n",
    "\n",
    "* always ask yourself, is this a recursion problem\n",
    "  * if yes, find a base case and recurrence relation i.e. a way to buildup/break down (bottom up, top down or half and half approach)\n",
    "* gayle gave 3 approaches; the one I wrote above was the most intuitive, of the 3, for me and was the approach I took at the whiteboard.\n",
    "* use the power of recurison; trust it and dont fight it :p\n",
    "* power of recursion (base and build view):\n",
    "  1. base case\n",
    "  2. way of reducing problem which relies on knowing the solution to the reduced problem later\n",
    "  3. way of using the solution to the subproblem  to build solution to original"
   ]
  },
  {
   "cell_type": "code",
   "execution_count": null,
   "metadata": {
    "collapsed": true
   },
   "outputs": [],
   "source": []
  }
 ],
 "metadata": {
  "kernelspec": {
   "display_name": "Python 2",
   "language": "python",
   "name": "python2"
  },
  "language_info": {
   "codemirror_mode": {
    "name": "ipython",
    "version": 2
   },
   "file_extension": ".py",
   "mimetype": "text/x-python",
   "name": "python",
   "nbconvert_exporter": "python",
   "pygments_lexer": "ipython2",
   "version": "2.7.13"
  }
 },
 "nbformat": 4,
 "nbformat_minor": 2
}
