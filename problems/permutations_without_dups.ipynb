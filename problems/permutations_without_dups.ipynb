{
 "cells": [
  {
   "cell_type": "markdown",
   "metadata": {},
   "source": [
    "# Problem Statement:\n",
    "\n",
    "Write a method to compute all permutations of a string of unique characters."
   ]
  },
  {
   "cell_type": "markdown",
   "metadata": {
    "collapsed": true
   },
   "source": [
    "# Assumptions:\n",
    "\n",
    "* n/a\n",
    "    "
   ]
  },
  {
   "cell_type": "markdown",
   "metadata": {},
   "source": [
    "## Approach 1:"
   ]
  },
  {
   "cell_type": "code",
   "execution_count": 2,
   "metadata": {},
   "outputs": [],
   "source": [
    "from itertools import permutations\n",
    "\n",
    "\n",
    "def get_perms(s):\n",
    "    if len(s) == 1:\n",
    "        return s\n",
    "    \n",
    "    perms = []\n",
    "    sub_perms = get_perms(s[:-1])\n",
    "    for sp in sub_perms:\n",
    "        for i in xrange(len(sp) + 1):\n",
    "            perms.append(sp[:i] + s[-1] + sp[i:])\n",
    "    return perms\n",
    "\n",
    "\n",
    "s = 'abcde'\n",
    "actual = set(get_perms(s))\n",
    "expected = set(''.join(p) for p in permutations(s))\n",
    "for p in expected:\n",
    "    assert p in actual"
   ]
  },
  {
   "cell_type": "markdown",
   "metadata": {},
   "source": [
    "## Approach 2:"
   ]
  },
  {
   "cell_type": "code",
   "execution_count": 7,
   "metadata": {
    "collapsed": true
   },
   "outputs": [],
   "source": [
    "# how gayle arrived at this solution, see page 356,\n",
    "# does not make sense to me; her notation seems a bit\n",
    "# hand wavy.\n",
    "\n",
    "def get_perms(s):\n",
    "    if len(s) == 1:\n",
    "        return s\n",
    "    \n",
    "    perms = []\n",
    "    for i in xrange(len(s)):\n",
    "        sub_perms = get_perms(s[:i] + s[i + 1:])\n",
    "        for sp in sub_perms:\n",
    "            perms.append(s[i] + sp)\n",
    "    return perms\n",
    "    \n",
    "\n",
    "s = 'abcde'\n",
    "actual = set(get_perms(s))\n",
    "expected = set(''.join(p) for p in permutations(s))\n",
    "for p in expected:\n",
    "    assert p in actual"
   ]
  },
  {
   "cell_type": "markdown",
   "metadata": {},
   "source": [
    "## Approach 3:"
   ]
  },
  {
   "cell_type": "code",
   "execution_count": 9,
   "metadata": {
    "collapsed": true
   },
   "outputs": [],
   "source": [
    "def get_perms(s):\n",
    "    perms = []\n",
    "    get_perms_helper(s, perms)\n",
    "    return perms\n",
    "\n",
    "def get_perms_helper(s, perms, curr=''):\n",
    "    if not s:\n",
    "        perms.append(curr)\n",
    "    \n",
    "    for i in xrange(len(s)):\n",
    "        get_perms_helper(s[:i] + s[i + 1:], perms, curr + s[i])\n",
    "    \n",
    "            \n",
    "s = 'abcde'\n",
    "actual = set(get_perms(s))\n",
    "expected = set(''.join(p) for p in permutations(s))\n",
    "for p in expected:\n",
    "    assert p in actual"
   ]
  },
  {
   "cell_type": "markdown",
   "metadata": {},
   "source": [
    "# Notes:\n",
    "\n",
    "* always ask yourself, is this a recursion problem\n",
    "  * if yes, find a base case and recurrence relation i.e. a way to buildup/break down (bottom up, top down or half and half approach)\n",
    "* gayle gave 3 approaches; the one I wrote above was the most intuitive, of the 3, for me and was the approach I took at the whiteboard.\n",
    "* use the power of recurison; trust it and dont fight it :p\n",
    "* power of recursion (base and build view):\n",
    "  1. base case\n",
    "  2. way of reducing problem which relies on knowing the solution to the reduced problem later\n",
    "  3. way of using the solution to the subproblem  to build solution to original"
   ]
  },
  {
   "cell_type": "code",
   "execution_count": null,
   "metadata": {
    "collapsed": true
   },
   "outputs": [],
   "source": []
  }
 ],
 "metadata": {
  "kernelspec": {
   "display_name": "Python 2",
   "language": "python",
   "name": "python2"
  },
  "language_info": {
   "codemirror_mode": {
    "name": "ipython",
    "version": 2
   },
   "file_extension": ".py",
   "mimetype": "text/x-python",
   "name": "python",
   "nbconvert_exporter": "python",
   "pygments_lexer": "ipython2",
   "version": "2.7.13"
  }
 },
 "nbformat": 4,
 "nbformat_minor": 2
}
