{
 "cells": [
  {
   "cell_type": "markdown",
   "metadata": {},
   "source": [
    "# Problem Statement:\n",
    "\n",
    "You are given a binary tree in which each node contains an integer value (which might be positive or negative). Design an algorithm to count the number of paths that sum to a given value. The path does not need to start or end at the root or a leaf, but it must go downwards (traveling only from parent nodes to child nodes)."
   ]
  },
  {
   "cell_type": "markdown",
   "metadata": {
    "collapsed": true
   },
   "source": [
    "# Assumptions:\n",
    "\n",
    "* n/a\n",
    "    "
   ]
  },
  {
   "cell_type": "code",
   "execution_count": 11,
   "metadata": {},
   "outputs": [],
   "source": [
    "def count_paths_with_sum(root, target_sum):\n",
    "    return count_paths_with_sum_helper(root, target_sum, 0, {})\n",
    "\n",
    "def count_paths_with_sum_helper(node, target_sum, running_sum, path_counts):\n",
    "    if node is None:\n",
    "        return 0\n",
    "    \n",
    "    running_sum += node.data\n",
    "    total_paths = path_counts.get(running_sum - target_sum, 0)\n",
    "    \n",
    "    if running_sum == target_sum:\n",
    "        total_paths += 1\n",
    "        \n",
    "    increment_hash_table(path_counts, running_sum, 1)\n",
    "    total_paths += count_paths_with_sum_helper(node.left, target_sum, running_sum, path_counts)\n",
    "    total_paths += count_paths_with_sum_helper(node.right, target_sum, running_sum, path_counts)\n",
    "    increment_hash_table(path_counts, running_sum, -1)\n",
    "    \n",
    "    return total_paths\n",
    "    \n",
    "def increment_hash_table(hash_table, key, delta):\n",
    "    new_count = hash_table.get(key, 0) + delta\n",
    "    if new_count == 0:\n",
    "        del hash_table[key]\n",
    "    else:\n",
    "        hash_table[key] = new_count\n",
    "        \n",
    "\n",
    "def count_paths_with_sum_brute_force(root, target_sum):\n",
    "    if root is None:\n",
    "        return 0\n",
    "    \n",
    "    paths_count = count_paths_with_sum_brute_force_helper(root, target_sum, 0)\n",
    "    \n",
    "    paths_count += count_paths_with_sum_brute_force(root.left, target_sum)\n",
    "    paths_count += count_paths_with_sum_brute_force(root.right, target_sum)\n",
    "    \n",
    "    return paths_count\n",
    "\n",
    "def count_paths_with_sum_brute_force_helper(node, target_sum, running_sum):\n",
    "    if node is None:\n",
    "        return 0\n",
    "    \n",
    "    running_sum += node.data\n",
    "    \n",
    "    total_paths = int(running_sum == target_sum)\n",
    "    \n",
    "    total_paths += count_paths_with_sum_brute_force_helper(node.left, target_sum, running_sum)\n",
    "    total_paths += count_paths_with_sum_brute_force_helper(node.right, target_sum, running_sum)\n",
    "    \n",
    "    return total_paths\n",
    "\n",
    "class TreeNode(object):\n",
    "    def __init__(self, data, parent=None):\n",
    "        self.data = data\n",
    "        self.left = None\n",
    "        self.right = None\n",
    "            \n",
    "\n",
    "root = TreeNode(10)\n",
    "root.left = TreeNode(5, root)\n",
    "root.right = TreeNode(-3, root)\n",
    "root.right.right = TreeNode(11, root.right)\n",
    "root.left.left = TreeNode(3, root.left)\n",
    "root.left.right = TreeNode(1, root.left)\n",
    "root.left.right.right = TreeNode(2, root.left.right)\n",
    "root.left.left.left = TreeNode(3, root.left.left)\n",
    "root.left.left.right = TreeNode(-2, root.left.left)\n",
    "\n",
    "target_sum = 8\n",
    "assert count_paths_with_sum_brute_force(root, target_sum) == count_paths_with_sum(root, target_sum)"
   ]
  },
  {
   "cell_type": "markdown",
   "metadata": {},
   "source": [
    "# Notes:\n",
    "\n",
    "* This is a problem where having seen past typical/fundamental problems (ex: contiguous subarray sum) definitely helps. All in all, I think this is where my strenght lies\n",
    "  * The best study routine to optimize that routine is do/get exposed to many problems"
   ]
  },
  {
   "cell_type": "code",
   "execution_count": null,
   "metadata": {
    "collapsed": true
   },
   "outputs": [],
   "source": []
  }
 ],
 "metadata": {
  "kernelspec": {
   "display_name": "Python 2",
   "language": "python",
   "name": "python2"
  },
  "language_info": {
   "codemirror_mode": {
    "name": "ipython",
    "version": 2
   },
   "file_extension": ".py",
   "mimetype": "text/x-python",
   "name": "python",
   "nbconvert_exporter": "python",
   "pygments_lexer": "ipython2",
   "version": "2.7.13"
  }
 },
 "nbformat": 4,
 "nbformat_minor": 2
}
