{
 "cells": [
  {
   "cell_type": "markdown",
   "metadata": {},
   "source": [
    "# Problem Statement:\n",
    "\n",
    "Given a sorted array of n integers that has been rotated an unknown number of times, write code to find an element in the array. You may assume that the array was originally sorted in increasing order.\n",
    "\n",
    "EXAMPLE\n",
    "\n",
    "Input: find 5 in [15, 16, 19, 20, 25, 1, 3, 4, 5, 7, 10, 14]\n",
    "\n",
    "Output: 8 (the index of 5 in the list)"
   ]
  },
  {
   "cell_type": "markdown",
   "metadata": {
    "collapsed": true
   },
   "source": [
    "# Assumptions:\n",
    "\n",
    "* n/a    "
   ]
  },
  {
   "cell_type": "code",
   "execution_count": 16,
   "metadata": {},
   "outputs": [],
   "source": [
    "def search(alist, target, low, high):\n",
    "    mid = (low + high) / 2\n",
    "    if alist[mid] == target:\n",
    "        return mid\n",
    "    if low > high:\n",
    "        return None\n",
    "    \n",
    "    if alist[low] < alist[mid]:\n",
    "        if alist[low] <= target and target < alist[mid]:\n",
    "            return search(alist, target, low, mid - 1)\n",
    "        else:\n",
    "            return search(alist, target, mid + 1, high)\n",
    "    elif alist[low] > alist[mid]:\n",
    "        if alist[mid] < target and target <= alist[high]:\n",
    "            return search(alist, target, mid + 1, high)\n",
    "        else:\n",
    "            return search(alist, target, low, mid - 1)\n",
    "    else:\n",
    "        if alist[mid] != alist[high]:\n",
    "            return search(alist, target, mid + 1, high)\n",
    "        else:\n",
    "            result = search(alist, target, low, mid - 1)\n",
    "            if result is not None:\n",
    "                return result\n",
    "            return search(alist, target, mid + 1, high)\n",
    "    \n",
    "    \n",
    "            \n",
    "alist = [15, 16, 19, 20, 25, 1, 3, 4, 5, 7, 10, 14]\n",
    "target = 5\n",
    "\n",
    "expected = alist.index(target)\n",
    "assert search(alist, target, 0, len(alist) - 1) == expected"
   ]
  },
  {
   "cell_type": "markdown",
   "metadata": {},
   "source": [
    "# Notes:\n",
    "\n",
    "* did this need to be recursive; was there a benefit to a recursive approach vs iterative (simpler)?\n",
    "* this is a problem that is bound to trip you up; i doubt anyone can solve this in the alotted time without errors. Therefore, focus on the approach rather than getting 'the right answer'.\n",
    "* when analyzing a problem, look for and frame problem in terms of familiar cases (ex: sorted sublists) instead of trying to look at all the ossible cases and find patterns/groups among them; there could be too many to address 1 by 1 "
   ]
  },
  {
   "cell_type": "code",
   "execution_count": null,
   "metadata": {
    "collapsed": true
   },
   "outputs": [],
   "source": []
  }
 ],
 "metadata": {
  "kernelspec": {
   "display_name": "Python 2",
   "language": "python",
   "name": "python2"
  },
  "language_info": {
   "codemirror_mode": {
    "name": "ipython",
    "version": 2
   },
   "file_extension": ".py",
   "mimetype": "text/x-python",
   "name": "python",
   "nbconvert_exporter": "python",
   "pygments_lexer": "ipython2",
   "version": "2.7.13"
  }
 },
 "nbformat": 4,
 "nbformat_minor": 2
}
