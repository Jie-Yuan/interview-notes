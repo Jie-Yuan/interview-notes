{
 "cells": [
  {
   "cell_type": "markdown",
   "metadata": {},
   "source": [
    "# Problem Statement:\n",
    "\n",
    "In an array of integers, a 'peak' is an element which is greater than or equal to the adjacent integers and a 'valley' is an element whcih is less than or equal to the adjacent integers. For example, in the array \n",
    "[5, 8, 6, 2, 3, 4, 6], [8,6] are peaks and [5, 2] are valleys. Given an array of integers, sort the array into an alternating sequence of peaks and valleys."
   ]
  },
  {
   "cell_type": "markdown",
   "metadata": {
    "collapsed": true
   },
   "source": [
    "# Assumptions:\n",
    "\n",
    "* n/a\n",
    "    "
   ]
  },
  {
   "cell_type": "code",
   "execution_count": 6,
   "metadata": {},
   "outputs": [],
   "source": [
    "def solution(alist):\n",
    "    for i in xrange(1, len(alist), 2):\n",
    "        max_i = max(i - 1, i, i + 1, key=lambda i: alist[i] if i < len(alist) else None)\n",
    "        alist[i], alist[max_i] = alist[max_i], alist[i]\n",
    "        \n",
    "# the optimal sol. I came up with in 40 mins\n",
    "def solution_timed(alist):\n",
    "    peak_turn = True\n",
    "    i = 0\n",
    "    while i + 1 < len(alist):\n",
    "        if peak_turn:\n",
    "            if alist[i] < alist[i + 1]:\n",
    "                alist[i], alist[i + 1] = alist[i + 1], alist[i]\n",
    "        else:\n",
    "            if alist[i] > alist[i + 1]:\n",
    "                alist[i], alist[i + 1] = alist[i + 1], alist[i]\n",
    "        peak_turn = not peak_turn\n",
    "        i += 1\n",
    "            \n",
    "            \n",
    "alist = [5, 3, 1, 2, 3]\n",
    "expected = [3, 5, 1, 3, 2]\n",
    "solution(alist)\n",
    "assert alist == expected\n",
    "\n",
    "alist = [5, 3, 1, 2, 3]\n",
    "expected = [5, 1, 3, 2, 3]\n",
    "solution_timed(alist)\n",
    "assert alist == expected"
   ]
  },
  {
   "cell_type": "markdown",
   "metadata": {},
   "source": [
    "# Notes:\n",
    "\n",
    "* rephrase problem in own words -> what does it really mean to be a peak -> max of 3\n",
    "* getting better at working off hints; i solved the problem with the optimal time and space complexity but not as nice of a solution\n",
    "* clarify -> does the sorted seq have to start with a peak or just alternate"
   ]
  },
  {
   "cell_type": "code",
   "execution_count": null,
   "metadata": {
    "collapsed": true
   },
   "outputs": [],
   "source": []
  }
 ],
 "metadata": {
  "kernelspec": {
   "display_name": "Python 2",
   "language": "python",
   "name": "python2"
  },
  "language_info": {
   "codemirror_mode": {
    "name": "ipython",
    "version": 2
   },
   "file_extension": ".py",
   "mimetype": "text/x-python",
   "name": "python",
   "nbconvert_exporter": "python",
   "pygments_lexer": "ipython2",
   "version": "2.7.13"
  }
 },
 "nbformat": 4,
 "nbformat_minor": 2
}
