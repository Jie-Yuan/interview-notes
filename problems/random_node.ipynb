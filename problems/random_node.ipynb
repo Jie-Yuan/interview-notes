{
 "cells": [
  {
   "cell_type": "markdown",
   "metadata": {},
   "source": [
    "# Problem Statement:\n",
    "\n",
    "You are implementing a binary search tree class from scratch, which, in addition to insert, find, and delete has a method getRandomNode() which returns a random node from the tree. All nodes should be equally likely to be chosen. Design and implement an algorithm for getRandomNode, and explain how you would implement the rest of the methods."
   ]
  },
  {
   "cell_type": "markdown",
   "metadata": {
    "collapsed": true
   },
   "source": [
    "# Assumptions:\n",
    "\n",
    "* n/a\n",
    "    "
   ]
  },
  {
   "cell_type": "code",
   "execution_count": 6,
   "metadata": {
    "collapsed": true
   },
   "outputs": [],
   "source": [
    "# COMEBACK TO THIS: You are spending too much time on this problem;\n",
    "# you understand the solution/code so move on for now i.e. you can finish\n",
    "# writing and testing this some other time.\n",
    "\n",
    "from random import randint\n",
    "\n",
    "\n",
    "class Tree(object):\n",
    "    def __init__(self):\n",
    "        self.root = None\n",
    "        \n",
    "    def random(self):\n",
    "        if self.root is None:\n",
    "            return None\n",
    "        \n",
    "        i = random(1, self.root.size)\n",
    "        return self.find_ith(i)\n",
    "    \n",
    "    def insert(self, data):\n",
    "        if self.root is None:\n",
    "            self.root = TreeNode(data)\n",
    "        else:\n",
    "            self.root.insert(data)\n",
    "            \n",
    "    def find(self, data):\n",
    "        return self.root.find(data)\n",
    "    \n",
    "    def delete(self, data):\n",
    "        self.root.delete(data)\n",
    "        \n",
    "class TreeNode(object):\n",
    "    def __init__(self, data):\n",
    "        self.data = data\n",
    "        self.left = None\n",
    "        self.right = None\n",
    "        self.size = 1\n",
    "        \n",
    "    def find(self, data):\n",
    "        if data == self.data:\n",
    "            return data\n",
    "        elif data <= self.data:\n",
    "            if self.left is None:\n",
    "                return None\n",
    "            else:\n",
    "                return self.left.find(data)\n",
    "        else:\n",
    "            if self.right is None:\n",
    "                return None\n",
    "            else:\n",
    "                return self.right.find(data)\n",
    "            \n",
    "    def insert(self, data):\n",
    "        if data <= self.data:\n",
    "            if self.left is None:\n",
    "                self.left = TreeNode(data)\n",
    "            else:\n",
    "                self.left.insert(data)\n",
    "        else:\n",
    "            if self.right is None:\n",
    "                self.right = TreeNode(data)\n",
    "            else:\n",
    "                self.right.insert(data)\n",
    "        self.size += 1\n",
    "        \n",
    "    def delete(self, data):\n",
    "        # TODO\n",
    "    "
   ]
  },
  {
   "cell_type": "markdown",
   "metadata": {},
   "source": [
    "# Notes:\n",
    "\n",
    "* really think about the problem statement:\n",
    " * what is the significance of the increased buffer -> write b into a"
   ]
  },
  {
   "cell_type": "code",
   "execution_count": null,
   "metadata": {
    "collapsed": true
   },
   "outputs": [],
   "source": []
  }
 ],
 "metadata": {
  "kernelspec": {
   "display_name": "Python 2",
   "language": "python",
   "name": "python2"
  },
  "language_info": {
   "codemirror_mode": {
    "name": "ipython",
    "version": 2
   },
   "file_extension": ".py",
   "mimetype": "text/x-python",
   "name": "python",
   "nbconvert_exporter": "python",
   "pygments_lexer": "ipython2",
   "version": "2.7.13"
  }
 },
 "nbformat": 4,
 "nbformat_minor": 2
}
