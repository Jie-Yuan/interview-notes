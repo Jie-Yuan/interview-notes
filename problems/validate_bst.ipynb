{
 "cells": [
  {
   "cell_type": "markdown",
   "metadata": {},
   "source": [
    "# Problem Statement:\n",
    "\n",
    "Implement a function to check if a binary tree is a binary search tree."
   ]
  },
  {
   "cell_type": "markdown",
   "metadata": {
    "collapsed": true
   },
   "source": [
    "# Assumptions:\n",
    "\n",
    "* n/a\n",
    "    "
   ]
  },
  {
   "cell_type": "code",
   "execution_count": 5,
   "metadata": {},
   "outputs": [],
   "source": [
    "def is_bst(root, min_val=None, max_val=None):\n",
    "    if root is None:\n",
    "        return True\n",
    "    if (min_val is not None and root.data <= min_val) or (max_val is not None and root.data > max_val):\n",
    "        return False\n",
    "    \n",
    "    if not is_bst(root.left, min_val, root.data) or not is_bst(root.right, root.data, max_val):\n",
    "        return False\n",
    "    return True\n",
    "\n",
    "\n",
    "class TreeNode(object):\n",
    "    def __init__(self, data):\n",
    "        self.data = data\n",
    "        self.left = None\n",
    "        self.right = None\n",
    "            \n",
    "\n",
    "root = TreeNode(1)\n",
    "root.left = TreeNode(2)\n",
    "root.right = TreeNode(3)\n",
    "root.left.left = TreeNode(0)\n",
    "root.left.right = TreeNode(5)\n",
    "root.left.right.right = TreeNode(6)\n",
    "\n",
    "assert not is_bst(root)\n",
    "assert is_bst(root.left)"
   ]
  },
  {
   "cell_type": "markdown",
   "metadata": {},
   "source": [
    "# Notes:\n",
    "\n",
    "* you need practice with recursion"
   ]
  },
  {
   "cell_type": "code",
   "execution_count": null,
   "metadata": {
    "collapsed": true
   },
   "outputs": [],
   "source": []
  }
 ],
 "metadata": {
  "kernelspec": {
   "display_name": "Python 2",
   "language": "python",
   "name": "python2"
  },
  "language_info": {
   "codemirror_mode": {
    "name": "ipython",
    "version": 2
   },
   "file_extension": ".py",
   "mimetype": "text/x-python",
   "name": "python",
   "nbconvert_exporter": "python",
   "pygments_lexer": "ipython2",
   "version": "2.7.13"
  }
 },
 "nbformat": 4,
 "nbformat_minor": 2
}
