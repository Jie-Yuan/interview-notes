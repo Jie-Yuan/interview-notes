{
 "cells": [
  {
   "cell_type": "markdown",
   "metadata": {},
   "source": [
    "# Problem Statement:\n",
    "\n",
    "Write a method to compute all permutations of a string of unique characters."
   ]
  },
  {
   "cell_type": "markdown",
   "metadata": {
    "collapsed": true
   },
   "source": [
    "# Assumptions:\n",
    "\n",
    "* n/a\n",
    "    "
   ]
  },
  {
   "cell_type": "code",
   "execution_count": 2,
   "metadata": {
    "collapsed": true
   },
   "outputs": [],
   "source": [
    "from collections import Counter\n",
    "from itertools import permutations\n",
    "\n",
    "\n",
    "def get_perms(s):\n",
    "    return get_perms_helper(Counter(s))\n",
    "\n",
    "def get_perms_helper(counts):\n",
    "    if sum(counts.values()) == 0:\n",
    "        return ['']\n",
    "    \n",
    "    perms = []\n",
    "    for k in counts:\n",
    "        if counts[k] > 0:\n",
    "            counts[k] -= 1\n",
    "            for sub_perm in get_perms_helper(counts):\n",
    "                perms.append(k + sub_perm)\n",
    "            counts[k] += 1\n",
    "    return perms\n",
    "            \n",
    "            \n",
    "s = 'aabccc'\n",
    "actual = set(get_perms(s))\n",
    "expected = set(''.join(p) for p in permutations(s))\n",
    "for p in expected:\n",
    "    assert p in actual"
   ]
  },
  {
   "cell_type": "markdown",
   "metadata": {},
   "source": [
    "# Notes:\n",
    "\n",
    "* remember, it is not about getting the right answer, it is about the process\n",
    "* got the perms w/o dups + set approach but the approach above was a bit unintuitive\n",
    "* despite not being able to see exactly how gayle came up with this approach, i was able to motivate it from the root issue of the perms w/o dups + set approach -> rather than create perms and check if dups, let's find a way to create unique perms from the get go"
   ]
  },
  {
   "cell_type": "code",
   "execution_count": null,
   "metadata": {
    "collapsed": true
   },
   "outputs": [],
   "source": []
  }
 ],
 "metadata": {
  "kernelspec": {
   "display_name": "Python 2",
   "language": "python",
   "name": "python2"
  },
  "language_info": {
   "codemirror_mode": {
    "name": "ipython",
    "version": 2
   },
   "file_extension": ".py",
   "mimetype": "text/x-python",
   "name": "python",
   "nbconvert_exporter": "python",
   "pygments_lexer": "ipython2",
   "version": "2.7.13"
  }
 },
 "nbformat": 4,
 "nbformat_minor": 2
}
