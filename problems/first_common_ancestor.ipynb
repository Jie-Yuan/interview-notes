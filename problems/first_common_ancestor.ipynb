{
 "cells": [
  {
   "cell_type": "markdown",
   "metadata": {},
   "source": [
    "# Problem Statement:\n",
    "\n",
    "Design an algorithm and write code to find the first common ancestor of two nodes in a binary tree. Avoid storing additional nodes in a data structure. NOTE: This is not necessarily a binary search tree."
   ]
  },
  {
   "cell_type": "markdown",
   "metadata": {
    "collapsed": true
   },
   "source": [
    "# Assumptions:\n",
    "\n",
    "* n/a\n",
    "    "
   ]
  },
  {
   "cell_type": "code",
   "execution_count": 7,
   "metadata": {},
   "outputs": [],
   "source": [
    "def common_ancestor(root, p, q):\n",
    "    if not is_descendant(p, root) or not is_descendant(q, root):\n",
    "        return None\n",
    "    return common_ancestor_helper(root, p, q)\n",
    "\n",
    "def common_ancestor_helper(root, p, q):\n",
    "    if root is None or root is p or root is q:\n",
    "        return root\n",
    "    \n",
    "    is_p_left = is_descendant(p, root.left)\n",
    "    is_q_left = is_descendant(q, root.left)\n",
    "    \n",
    "    if is_p_left != is_q_left:\n",
    "        return root\n",
    "    \n",
    "    root = root.left if is_p_left else root.right\n",
    "    return common_ancestor_helper(root, p, q)\n",
    "    \n",
    "def is_descendant(target, root):\n",
    "    if root is None:\n",
    "        return False\n",
    "    if root is target:\n",
    "        return True\n",
    "    \n",
    "    return is_descendant(target, root.left) or is_descendant(target, root.right)\n",
    "    \n",
    "class TreeNode(object):\n",
    "    def __init__(self, data, parent=None):\n",
    "        self.data = data\n",
    "        self.left = None\n",
    "        self.right = None\n",
    "            \n",
    "\n",
    "root = TreeNode(50)\n",
    "root.left = TreeNode(25, root)\n",
    "root.right = TreeNode(75, root)\n",
    "root.right.left = TreeNode(60, root.right)\n",
    "root.right.right = TreeNode(80, root.right)\n",
    "root.left.left = TreeNode(10, root.left)\n",
    "root.left.right = TreeNode(30, root.left)\n",
    "\n",
    "assert common_ancestor(root, root.left, root.right.right) is root\n",
    "assert common_ancestor(root, root.left, root.left.left) is root.left\n",
    "assert common_ancestor(root, root.left.left, root.left.right) is root.left"
   ]
  },
  {
   "cell_type": "markdown",
   "metadata": {},
   "source": [
    "# Notes:\n",
    "\n",
    "* good refresher on sum of infinite geom. series and finding the merge point of 2 merged linked lists\n",
    "* recursion + me = ?"
   ]
  },
  {
   "cell_type": "code",
   "execution_count": null,
   "metadata": {
    "collapsed": true
   },
   "outputs": [],
   "source": []
  }
 ],
 "metadata": {
  "kernelspec": {
   "display_name": "Python 2",
   "language": "python",
   "name": "python2"
  },
  "language_info": {
   "codemirror_mode": {
    "name": "ipython",
    "version": 2
   },
   "file_extension": ".py",
   "mimetype": "text/x-python",
   "name": "python",
   "nbconvert_exporter": "python",
   "pygments_lexer": "ipython2",
   "version": "2.7.13"
  }
 },
 "nbformat": 4,
 "nbformat_minor": 2
}
