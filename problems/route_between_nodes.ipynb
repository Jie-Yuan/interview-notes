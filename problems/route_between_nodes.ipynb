{
 "cells": [
  {
   "cell_type": "markdown",
   "metadata": {},
   "source": [
    "# Problem Statement:\n",
    "\n",
    "Given a directed graph, design an algorithm to find out whether there is a route between two nodes."
   ]
  },
  {
   "cell_type": "markdown",
   "metadata": {
    "collapsed": true
   },
   "source": [
    "# Assumptions:\n",
    "\n",
    "* n/a\n",
    "    "
   ]
  },
  {
   "cell_type": "code",
   "execution_count": 1,
   "metadata": {
    "collapsed": true
   },
   "outputs": [],
   "source": [
    "def is_path(graph, source, destination):\n",
    "    seen = set()\n",
    "    \n",
    "    num_nodes = len(graph)\n",
    "    for node in xrange(num_nodes):\n",
    "        if node not in seen and is_path_helper(graph, source, destination, seen):\n",
    "            return True\n",
    "    return False\n",
    "\n",
    "def is_path_helper(graph, source, destination, seen):\n",
    "    if source == destination:\n",
    "        return True\n",
    "    if source in seen:\n",
    "        return False\n",
    "    \n",
    "    seen.add(source)\n",
    "    for node in graph[source]:\n",
    "        if is_path_helper(graph, node, destination, seen):\n",
    "            return True\n",
    "    return False\n",
    "\n",
    "\n",
    "graph = [[1],[2], [1, 3], [], []]\n",
    "assert is_path(graph, 0, 3)\n",
    "assert not is_path(graph, 0, 4)"
   ]
  },
  {
   "cell_type": "markdown",
   "metadata": {},
   "source": [
    "# Notes:\n",
    "\n",
    "* you really choked on this easy one haha; when you are overwhelemed by the possbilities, that arise from ambiguity, take a deep breath and list them out. Then, rule them out/make simplyfying assumptions\n",
    "* also, work out your thought process on the whiteboard and talk out loud; you wont get the job if you just stare and you tend to make mistake when you \"do it all in your head\""
   ]
  },
  {
   "cell_type": "code",
   "execution_count": null,
   "metadata": {
    "collapsed": true
   },
   "outputs": [],
   "source": []
  }
 ],
 "metadata": {
  "kernelspec": {
   "display_name": "Python 2",
   "language": "python",
   "name": "python2"
  },
  "language_info": {
   "codemirror_mode": {
    "name": "ipython",
    "version": 2
   },
   "file_extension": ".py",
   "mimetype": "text/x-python",
   "name": "python",
   "nbconvert_exporter": "python",
   "pygments_lexer": "ipython2",
   "version": "2.7.13"
  }
 },
 "nbformat": 4,
 "nbformat_minor": 2
}
