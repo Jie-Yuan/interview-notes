{
 "cells": [
  {
   "cell_type": "markdown",
   "metadata": {},
   "source": [
    "# Problem Statement:\n",
    "\n",
    "Write an algorithm to print all ways of arranging eight queens on an 8x8 chess board so that none of them share the same row, column, or diagonal. In this case, \"diagonal\" means all diagonals, not just the two that bisect the board."
   ]
  },
  {
   "cell_type": "markdown",
   "metadata": {
    "collapsed": true
   },
   "source": [
    "# Assumptions:\n",
    "\n",
    "* n/a    "
   ]
  },
  {
   "cell_type": "code",
   "execution_count": 4,
   "metadata": {},
   "outputs": [
    {
     "name": "stdout",
     "output_type": "stream",
     "text": [
      "92\n"
     ]
    }
   ],
   "source": [
    "BOARD_SIZE = 8\n",
    "\n",
    "\n",
    "def place_queen(row, columns, results):\n",
    "    if row == BOARD_SIZE:\n",
    "        results.append([i for i in columns])\n",
    "    else:\n",
    "        for col in xrange(BOARD_SIZE):\n",
    "            if is_valid(columns, row, col):\n",
    "                columns[row] = col\n",
    "                place_queen(row + 1, columns, results)\n",
    "            \n",
    "def is_valid(columns, curr_row, curr_col):\n",
    "    for row in xrange(curr_row):\n",
    "        if columns[row] == curr_col:\n",
    "            return False\n",
    "        \n",
    "        column_distance = abs(columns[row] - curr_col)\n",
    "        row_distance = abs(row - curr_row)\n",
    "        if column_distance == row_distance:\n",
    "            return False\n",
    "    return True\n",
    "            \n",
    "            \n",
    "results = []\n",
    "place_queen(0, [None] * BOARD_SIZE, results)\n",
    "print len(results)"
   ]
  },
  {
   "cell_type": "markdown",
   "metadata": {},
   "source": [
    "# Notes:\n",
    "\n",
    "* let your intuition guide you\n",
    "* take hints as needed but make sure to use them"
   ]
  },
  {
   "cell_type": "code",
   "execution_count": null,
   "metadata": {
    "collapsed": true
   },
   "outputs": [],
   "source": []
  }
 ],
 "metadata": {
  "kernelspec": {
   "display_name": "Python 2",
   "language": "python",
   "name": "python2"
  },
  "language_info": {
   "codemirror_mode": {
    "name": "ipython",
    "version": 2
   },
   "file_extension": ".py",
   "mimetype": "text/x-python",
   "name": "python",
   "nbconvert_exporter": "python",
   "pygments_lexer": "ipython2",
   "version": "2.7.13"
  }
 },
 "nbformat": 4,
 "nbformat_minor": 2
}
