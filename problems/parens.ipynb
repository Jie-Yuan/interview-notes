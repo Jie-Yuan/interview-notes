{
 "cells": [
  {
   "cell_type": "markdown",
   "metadata": {},
   "source": [
    "# Problem Statement:\n",
    "\n",
    "Implement an algorithm to print all valid (e.g., properly opened and closed) combinations of n pairs of parentheses."
   ]
  },
  {
   "cell_type": "markdown",
   "metadata": {
    "collapsed": true
   },
   "source": [
    "# Assumptions:\n",
    "\n",
    "* n/a\n",
    "    "
   ]
  },
  {
   "cell_type": "code",
   "execution_count": 2,
   "metadata": {},
   "outputs": [],
   "source": [
    "def get_combs(n):\n",
    "    combs = set()\n",
    "    if n == 0:\n",
    "        combs.add('')\n",
    "        return combs\n",
    "    \n",
    "    for sub_comb in get_combs(n - 1):\n",
    "        for i in xrange(len(sub_comb)):\n",
    "            if sub_comb[i] == '(':\n",
    "                combs.add(sub_comb[:i + 1] + '()' + sub_comb[i + 1:])\n",
    "        combs.add('()' + sub_comb)\n",
    "    return combs\n",
    "\n",
    "n = 3\n",
    "expected = set(['((()))', '(()())', '(())()', '()(())', '()()()'])\n",
    "actual = set(get_combs(n))\n",
    "for c in expected:\n",
    "    assert c in actual"
   ]
  },
  {
   "cell_type": "code",
   "execution_count": 19,
   "metadata": {},
   "outputs": [],
   "source": [
    "def get_combs(n):\n",
    "    combs = []\n",
    "    get_combs_helper(n, n, combs, '')\n",
    "    return combs\n",
    "\n",
    "def get_combs_helper(left_count, right_count, combs, prefix):\n",
    "    if left_count == 0 and right_count == 0:\n",
    "        combs.append(prefix)\n",
    "    elif left_count >= 0 and right_count >= left_count:\n",
    "        get_combs_helper(left_count - 1, right_count, combs, prefix + '(')\n",
    "        get_combs_helper(left_count, right_count - 1, combs, prefix + ')')\n",
    "        \n",
    "actual = set(get_combs(n))\n",
    "for c in expected:\n",
    "    assert c in actual"
   ]
  },
  {
   "cell_type": "markdown",
   "metadata": {},
   "source": [
    "# Notes:\n",
    "\n",
    "* think of ways to make unique seqs from get go"
   ]
  },
  {
   "cell_type": "code",
   "execution_count": null,
   "metadata": {
    "collapsed": true
   },
   "outputs": [],
   "source": []
  }
 ],
 "metadata": {
  "kernelspec": {
   "display_name": "Python 2",
   "language": "python",
   "name": "python2"
  },
  "language_info": {
   "codemirror_mode": {
    "name": "ipython",
    "version": 2
   },
   "file_extension": ".py",
   "mimetype": "text/x-python",
   "name": "python",
   "nbconvert_exporter": "python",
   "pygments_lexer": "ipython2",
   "version": "2.7.13"
  }
 },
 "nbformat": 4,
 "nbformat_minor": 2
}
